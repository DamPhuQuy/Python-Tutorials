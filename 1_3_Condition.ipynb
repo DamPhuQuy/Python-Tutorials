{
 "cells": [
  {
   "cell_type": "code",
   "execution_count": null,
   "id": "e02e54db",
   "metadata": {},
   "outputs": [],
   "source": [
    "# if-else \n",
    "a = 3\n",
    "if a > 0: \n",
    "    print(\"YES\")\n",
    "else:\n",
    "    print(\"NO\") "
   ]
  },
  {
   "cell_type": "code",
   "execution_count": null,
   "id": "e9e26522",
   "metadata": {},
   "outputs": [],
   "source": [
    "# if elif else \n",
    "a = 0\n",
    "if a > 0: \n",
    "    print(\"positive\") \n",
    "elif a < 0: \n",
    "    print(\"negative\") \n",
    "else:\n",
    "    print(\"zero\")"
   ]
  },
  {
   "cell_type": "code",
   "execution_count": 1,
   "id": "ea9d0aad",
   "metadata": {},
   "outputs": [
    {
     "name": "stdout",
     "output_type": "stream",
     "text": [
      "A is positive\n"
     ]
    }
   ],
   "source": [
    "# shorthand\n",
    "a = 3\n",
    "print(\"A is positive\") if a > 0 else print(\"A is negative\") "
   ]
  },
  {
   "cell_type": "code",
   "execution_count": null,
   "id": "c500b3a1",
   "metadata": {},
   "outputs": [],
   "source": [
    "# nested if-else\n",
    "a = 0\n",
    "if a > 0:\n",
    "    if a % 2 == 0: \n",
    "        print(\"A is positive and even\")\n",
    "    else:\n",
    "        print(\"A is positive number\")\n",
    "elif a == 0:\n",
    "    print(\"A is zero\")\n",
    "else:\n",
    "    print(\"A is negative\")"
   ]
  },
  {
   "cell_type": "code",
   "execution_count": null,
   "id": "3fe1ea1e",
   "metadata": {},
   "outputs": [],
   "source": [
    "# logical operator\n",
    "# and\n",
    "# or\n",
    "\n",
    "a = 4\n",
    "if a % 2 == 0 and a > 0:\n",
    "    print(\"YES\") \n",
    "elif a % 2 != 0 or a < 0:\n",
    "    print(\"NO\") "
   ]
  }
 ],
 "metadata": {
  "kernelspec": {
   "display_name": "base",
   "language": "python",
   "name": "python3"
  },
  "language_info": {
   "codemirror_mode": {
    "name": "ipython",
    "version": 3
   },
   "file_extension": ".py",
   "mimetype": "text/x-python",
   "name": "python",
   "nbconvert_exporter": "python",
   "pygments_lexer": "ipython3",
   "version": "3.13.5"
  }
 },
 "nbformat": 4,
 "nbformat_minor": 5
}
