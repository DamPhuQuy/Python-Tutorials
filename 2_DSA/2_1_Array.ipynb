{
 "cells": [
  {
   "cell_type": "markdown",
   "id": "b4d2b4a3",
   "metadata": {},
   "source": [
    "<img src=\"https://media.geeksforgeeks.org/wp-content/uploads/20250719165045791029/array_creation.webp\">\n"
   ]
  },
  {
   "cell_type": "code",
   "execution_count": null,
   "id": "cf4ce487",
   "metadata": {},
   "outputs": [
    {
     "name": "stdout",
     "output_type": "stream",
     "text": [
      "[1, 2, 2, 3, 5, 6]\n"
     ]
    }
   ],
   "source": [
    "# Leet code 88. Merge Sorted Array\n",
    "# https://leetcode.com/problems/merge-sorted-array/\n",
    "\n",
    "\n",
    "class Solution:\n",
    "    def merge(self, nums1: list[int], m: int, nums2: list[int], n: int) -> None:\n",
    "        q: list[int] = []\n",
    "\n",
    "        # two pointers approach\n",
    "        i: int = 0\n",
    "        j: int = 0\n",
    "        while i < m and j < n:\n",
    "            if nums1[i] < nums2[j]:\n",
    "                q.append(nums1[i])\n",
    "                i += 1\n",
    "            else:\n",
    "                q.append(nums2[j])\n",
    "                j += 1\n",
    "\n",
    "        while i < m:\n",
    "            q.append(nums1[i])\n",
    "            i += 1\n",
    "\n",
    "        while j < n:\n",
    "            q.append(nums2[j])\n",
    "            j += 1\n",
    "\n",
    "        for i in range(m + n):\n",
    "            nums1[i] = q.pop(0)\n",
    "\n",
    "\n",
    "if __name__ == \"__main__\":\n",
    "    s: Solution = Solution()\n",
    "    nums1: list[int] = [1, 2, 3, 0, 0, 0]\n",
    "    m = 3\n",
    "    nums2: list[int] = [2, 5, 6]\n",
    "    n = 3\n",
    "    s.merge(nums1, m, nums2, n)\n",
    "    print(nums1)"
   ]
  },
  {
   "cell_type": "code",
   "execution_count": null,
   "id": "d9bd4501",
   "metadata": {},
   "outputs": [
    {
     "name": "stdout",
     "output_type": "stream",
     "text": [
      "True\n"
     ]
    }
   ],
   "source": [
    "# Leet code 217. Contains Duplicate\n",
    "# https://leetcode.com/problems/contains-duplicate/\n",
    "\n",
    "\n",
    "class Solution:\n",
    "    def containsDuplicate(self, nums: list[int]) -> bool:\n",
    "        count1: set[int] = set()\n",
    "        for num in nums:\n",
    "            count1.add(num)\n",
    "        if len(count1) != len(nums):\n",
    "            return True\n",
    "        return False\n",
    "\n",
    "\n",
    "if __name__ == \"__main__\":\n",
    "    s: Solution = Solution()\n",
    "    nums: list[int] = [1, 2, 3, 1]\n",
    "    check: bool = s.containsDuplicate(nums)\n",
    "    print(check)"
   ]
  },
  {
   "cell_type": "code",
   "execution_count": null,
   "id": "b470d7c1",
   "metadata": {},
   "outputs": [
    {
     "name": "stdout",
     "output_type": "stream",
     "text": [
      "['0->2', '4->5', '7']\n"
     ]
    }
   ],
   "source": [
    "# Leet code 228. Summary Ranges\n",
    "# https://leetcode.com/problems/summary-ranges/\n",
    "\n",
    "\n",
    "class Solution:\n",
    "    def summaryRanges(self, nums: list[int]) -> list[str]:\n",
    "        if not nums:\n",
    "            return []\n",
    "\n",
    "        result: list[str] = []\n",
    "        start: int = nums[0]\n",
    "\n",
    "        for i in range(len(nums) - 1):\n",
    "            temp, end = nums[i], nums[i + 1]  # unpacking\n",
    "            if temp + 1 == end:\n",
    "                continue\n",
    "            else:\n",
    "                result.append(\n",
    "                    f\"{start}->{temp}\" if start != temp else f\"{start}\"\n",
    "                )\n",
    "                start = end\n",
    "\n",
    "        result.append(\n",
    "            f\"{start}->{nums[-1]}\" if start != nums[-1] else f\"{start}\"\n",
    "        )\n",
    "        return result\n",
    "\n",
    "\n",
    "if __name__ == \"__main__\":\n",
    "    s: Solution = Solution()\n",
    "    nums: list[int] = [0, 1, 2, 4, 5, 7]\n",
    "    ranges: list[str] = s.summaryRanges(nums)\n",
    "    print(ranges)"
   ]
  },
  {
   "cell_type": "code",
   "execution_count": null,
   "id": "cf46d5a4",
   "metadata": {},
   "outputs": [],
   "source": []
  }
 ],
 "metadata": {
  "kernelspec": {
   "display_name": "base",
   "language": "python",
   "name": "python3"
  },
  "language_info": {
   "codemirror_mode": {
    "name": "ipython",
    "version": 3
   },
   "file_extension": ".py",
   "mimetype": "text/x-python",
   "name": "python",
   "nbconvert_exporter": "python",
   "pygments_lexer": "ipython3",
   "version": "3.13.5"
  }
 },
 "nbformat": 4,
 "nbformat_minor": 5
}
