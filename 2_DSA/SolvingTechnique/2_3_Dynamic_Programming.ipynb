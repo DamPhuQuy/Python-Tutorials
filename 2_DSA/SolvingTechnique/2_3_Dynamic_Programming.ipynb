{
 "cells": [
  {
   "cell_type": "markdown",
   "id": "8b90e0a7",
   "metadata": {},
   "source": [
    "# Dynamic programming\n",
    "\n",
    "Dynamic Programming is a commonly used algorithmic technique used to `optimize recursive` solutions when same subproblems are called again.\n",
    "\n",
    "- The core idea behind DP is to `store solutions` to subproblems so that each is solved only once.\n",
    "- To solve DP problems, we first write a recursive solution in a way that there are overlapping subproblems in the recursion tree (the - recursive function is called with the same parameters multiple times)\n",
    "- To make sure that a recursive value is computed only once (to improve time taken by algorithm), we store results of the recursive calls.\n",
    "- There are `two ways` to store the results, one is `top down` (or `memoization`) and other is `bottom up` (or `tabulation`).\n",
    "\n",
    "## When to Use Dynamic Programming (DP)?\n",
    "\n",
    "Dynamic programming is used for solving problems that consists of the following characteristics:\n",
    "\n",
    "1. **Optimal Substructure**:\n",
    "   Means that the problem can be broken down into smaller subproblems, where the solutions to the subproblems are overlapping. Having subproblems that are overlapping means that the solution to one subproblem is part of the solution to another subproblem.\n",
    "2. **Overlapping Subproblems**:\n",
    "   Means that the complete solution to a problem can be constructed from the solutions of its smaller subproblems. So not only must the problem have overlapping subproblems, the substructure must also be optimal so that there is a way to piece the solutions to the subproblems together to form the complete solution.\n",
    "\n",
    "## Approaches of Dynamic Programming (DP)\n",
    "\n",
    "Dynamic programming can be achieved using two approaches:\n",
    "\n",
    "<img src=\"https://media.geeksforgeeks.org/wp-content/uploads/20241223140520452888/Dynamic-Programming.webp\">\n",
    "\n",
    "1. `Top-Down Approach` (Memoization):\n",
    "\n",
    "   - In the top-down approach, also known as memoization, we `keep the solution recursive` and `add a memoization table` to avoid repeated calls of same subproblems.\n",
    "   - Before making any recursive call, we first `check if the memoization table already has solution` for it.\n",
    "   - After the recursive call is over, we `store the solution in the memoization table`.\n",
    "\n",
    "2. `Bottom-Up Approach` (Tabulation):\n",
    "   - In the bottom-up approach, also known as tabulation, we `start with the smallest subproblems` and gradually `build up` to the final solution.\n",
    "   - We write an iterative solution (`avoid recursion overhead`) and build the solution in bottom-up manner, using loop.\n",
    "   - We use a `dp table` where we first fill the solution for base cases and then fill the remaining entries of the table using recursive formula.\n",
    "   - We only use recursive formula on table entries and do not make recursive calls.\n",
    "\n",
    "<img src=\"images/dp.png\">\n",
    "\n",
    "## Steps to solve a Dynamic programming problem:\n",
    "\n",
    "- Identify if it is a Dynamic programming problem.\n",
    "- Decide a state expression with the Least parameters.\n",
    "- Formulate state and transition relationship.\n",
    "- Apply tabulation or memorization.\n"
   ]
  },
  {
   "cell_type": "markdown",
   "id": "138cb3c2",
   "metadata": {},
   "source": [
    "## Fibonacci\n",
    "\n",
    "$$ F*n = F*{n-1} + F\\_{n-2} \\quad \\text{với } F_0 = 0, F_1 = 1 $$\n"
   ]
  },
  {
   "cell_type": "code",
   "execution_count": 5,
   "id": "d8d9c19e",
   "metadata": {},
   "outputs": [
    {
     "name": "stdout",
     "output_type": "stream",
     "text": [
      "55\n"
     ]
    }
   ],
   "source": [
    "# Using Memoization to find n-th fibonacci number\n",
    "# Time: O(n); Space: O(n)\n",
    "class Solution:\n",
    "    def fib(self, n: int) -> int:\n",
    "        dp: list[int] = [-1] * (n + 1)\n",
    "        return self._fib_memoi(n, dp)\n",
    "\n",
    "    def _fib_memoi(self, n: int, dp: list[int]) -> int:\n",
    "        if n <= 1:\n",
    "            return n\n",
    "\n",
    "        if dp[n] != -1:\n",
    "            return dp[n]\n",
    "\n",
    "        dp[n] = self._fib_memoi(n - 1, dp) + self._fib_memoi(n - 2, dp)\n",
    "        return dp[n]\n",
    "\n",
    "\n",
    "if __name__ == \"__main__\":\n",
    "    solution: Solution = Solution()\n",
    "\n",
    "    print(solution.fib(10))"
   ]
  },
  {
   "cell_type": "code",
   "execution_count": 6,
   "id": "5d43121e",
   "metadata": {},
   "outputs": [
    {
     "name": "stdout",
     "output_type": "stream",
     "text": [
      "55\n"
     ]
    }
   ],
   "source": [
    "# Using tabulation to find n-th fibonacci number\n",
    "# Time: O(n); Space: O(n)\n",
    "class Solution:\n",
    "    def fib(self, n: int) -> int:\n",
    "        if n <= 1:\n",
    "            return n\n",
    "\n",
    "        F: list[int] = [0] * (n + 1)\n",
    "        F[0] = 0\n",
    "        F[1] = 1\n",
    "\n",
    "        for i in range(2, n + 1):\n",
    "            F[i] = F[i - 1] + F[i - 2]\n",
    "\n",
    "        return F[n]\n",
    "\n",
    "\n",
    "if __name__ == \"__main__\":\n",
    "    s: Solution = Solution()\n",
    "\n",
    "    print(s.fib(10))"
   ]
  },
  {
   "cell_type": "markdown",
   "id": "5dcabcf0",
   "metadata": {},
   "source": [
    "## Lucas Number\n",
    "\n",
    "$$\n",
    "L_n = \\begin{cases}\n",
    "    2 & \\text{if } n=0 \\\\\n",
    "    1 & \\text{if } n=1 \\\\\n",
    "    L_{n-1} + L_{n-2} & \\text{if } n>1\n",
    "\\end{cases}\n",
    "$$\n"
   ]
  },
  {
   "cell_type": "code",
   "execution_count": 3,
   "id": "78f3fba2",
   "metadata": {},
   "outputs": [
    {
     "name": "stdout",
     "output_type": "stream",
     "text": [
      "123\n"
     ]
    }
   ],
   "source": [
    "# Top-down\n",
    "\n",
    "\n",
    "class Solution:\n",
    "    def lucas(self, n: int) -> int:\n",
    "        dp: list[int] = [-1] * (n + 1)\n",
    "        return self._lucas_memo(n, dp)\n",
    "\n",
    "    def _lucas_memo(self, n: int, dp: list[int]) -> int:\n",
    "        if n == 0:\n",
    "            return 2\n",
    "        elif n == 1:\n",
    "            return 1\n",
    "\n",
    "        if dp[n] != -1:\n",
    "            return dp[n]\n",
    "\n",
    "        dp[n] = self._lucas_memo(n - 1, dp) + self._lucas_memo(n - 2, dp)\n",
    "        return dp[n]  # main return after solving subproblems\n",
    "\n",
    "\n",
    "if __name__ == \"__main__\":\n",
    "    s: Solution = Solution()\n",
    "\n",
    "    print(s.lucas(10))"
   ]
  },
  {
   "cell_type": "code",
   "execution_count": 4,
   "id": "ef5883a1",
   "metadata": {},
   "outputs": [
    {
     "name": "stdout",
     "output_type": "stream",
     "text": [
      "123\n"
     ]
    }
   ],
   "source": [
    "# Bottom-up\n",
    "\n",
    "\n",
    "class Solution:\n",
    "    def lucas(self, n: int) -> int:\n",
    "        if n == 0:\n",
    "            return 2\n",
    "        elif n == 1:\n",
    "            return 1\n",
    "\n",
    "        L: list[int] = [0] * (n + 1)\n",
    "        L[0] = 2\n",
    "        L[1] = 1\n",
    "        for i in range(2, n + 1):\n",
    "            L[i] = L[i - 1] + L[i - 2]\n",
    "\n",
    "        return L[n]\n",
    "\n",
    "\n",
    "if __name__ == \"__main__\":\n",
    "    s: Solution = Solution()\n",
    "\n",
    "    print(s.lucas(10))"
   ]
  },
  {
   "cell_type": "markdown",
   "id": "68cdf34d",
   "metadata": {},
   "source": [
    "## Climbing stairs\n"
   ]
  },
  {
   "cell_type": "code",
   "execution_count": null,
   "id": "990300be",
   "metadata": {},
   "outputs": [],
   "source": [
    "# There are n stairs, and a person standing at the bottom wants to climb stairs to reach the top. The person can climb either 1 stair or 2 stairs at a time, the task is to count the number of ways that a person can reach at the top.\n",
    "\n",
    "# n = 1 => s[1] = 1\n",
    "# 1st: 1\n",
    "\n",
    "# n = 2 => s[2] = 2\n",
    "# 1st: 1 2\n",
    "# 2nd: 1\n",
    "\n",
    "# n = 3 => s[3] = 3\n",
    "# 1st: 1 1 2\n",
    "# 2nd: 1 2 1\n",
    "# 3rd: 1\n",
    "\n",
    "# n = 4 => s[4] = 5\n",
    "# 1st: 1 1 1 2 2\n",
    "# 2nd: 1 1 2 1 2\n",
    "# 3rd: 1 2 1 1\n",
    "# 4th: 1\n",
    "\n",
    "# n = 5 => s[5] = 8\n",
    "# 1st: 1 1 1 1 2 2 2 1\n",
    "# 2nd: 1 1 1 2 1 2 1 2\n",
    "# 3rd: 1 1 2 1 1 1 2 2\n",
    "# 4th: 1 2 1 1 1\n",
    "# 5th: 1\n",
    "\n",
    "# 1 2 3 5 8 => s[n] = s[n - 1] + s[n - 2] => similar to fibo"
   ]
  },
  {
   "cell_type": "markdown",
   "id": "9bdedd06",
   "metadata": {},
   "source": [
    "### Minimum cost of climbing stairs\n"
   ]
  },
  {
   "cell_type": "code",
   "execution_count": null,
   "id": "c923d8ac",
   "metadata": {},
   "outputs": [
    {
     "name": "stdout",
     "output_type": "stream",
     "text": [
      "31\n"
     ]
    }
   ],
   "source": [
    "# Given an array of integers cost[] of length n, where cost[i] is the cost of the ith step on a staircase. Once the cost is paid, we can either climb one or two steps.\n",
    "# We can either start from the step with index 0, or the step with index 1. The task is to find the minimum cost to reach the top.\n",
    "\n",
    "# To reach the stair i-th, a person has to jump either from (i - 1) or (i - 2), each stair has cost, so we have to compare the cost at (i - 1) and (i - 2), take the minimum one.\n",
    "\n",
    "# min_cost = cost[i] + min(min_cost(i - 1), min_cost(i - 2))\n",
    "# using min() function to compare\n",
    "\n",
    "\n",
    "# Brute force\n",
    "class Solution:\n",
    "    # main\n",
    "    def _min_cost_to_reach_ith(self, i: int, cost: list[int]) -> int:\n",
    "        # to reach ith, only from (i - 1) or (i - 2)\n",
    "        if i == 0 or i == 1:\n",
    "            return cost[i]\n",
    "\n",
    "        i_1: int = self._min_cost_to_reach_ith(i - 1, cost)\n",
    "        i_2: int = self._min_cost_to_reach_ith(i - 2, cost)\n",
    "        return cost[i] + min(i_1, i_2)\n",
    "\n",
    "    def min_cost_cal(self, cost: list[int]) -> int:\n",
    "        n: int = len(cost)\n",
    "\n",
    "        if n <= 1:\n",
    "            return cost[0]\n",
    "\n",
    "        # Return minimum of cost to\n",
    "        # reach (n-1)th stair and\n",
    "        # cost to reach (n-2)th stair\n",
    "\n",
    "        #    [0]--------[1]--------[2]---->[TOP -> n-th]\n",
    "        #    10         15         20\n",
    "        #  n - 3      n - 2      n - 1\n",
    "\n",
    "        return min(\n",
    "            self._min_cost_to_reach_ith(n - 1, cost),\n",
    "            self._min_cost_to_reach_ith(n - 2, cost),\n",
    "        )\n",
    "\n",
    "\n",
    "if __name__ == \"__main__\":\n",
    "    s: Solution = Solution()\n",
    "    print(s.min_cost_cal([16, 19, 10, 12, 18]))"
   ]
  },
  {
   "cell_type": "code",
   "execution_count": 2,
   "id": "ce521d92",
   "metadata": {},
   "outputs": [
    {
     "name": "stdout",
     "output_type": "stream",
     "text": [
      "31\n"
     ]
    }
   ],
   "source": [
    "# Top-down\n",
    "\n",
    "\n",
    "class Solution:\n",
    "    def min_cost_at_ith(self, i: int, cost: list[int], dp: list[int]) -> int:\n",
    "        if i == 0 or i == 1:\n",
    "            return cost[i]\n",
    "\n",
    "        if dp[i] != -1:\n",
    "            return dp[i]\n",
    "\n",
    "        dp[i] = cost[i] + min(\n",
    "            self.min_cost_at_ith(i - 1, cost, dp),\n",
    "            self.min_cost_at_ith(i - 2, cost, dp),\n",
    "        )\n",
    "        return dp[i]\n",
    "\n",
    "    def min_cal(self, cost: list[int]) -> int:\n",
    "        n = len(cost)\n",
    "\n",
    "        if n <= 1:\n",
    "            return cost[0]\n",
    "\n",
    "        dp: list[int] = [-1] * (n + 1)\n",
    "\n",
    "        return min(\n",
    "            self.min_cost_at_ith(n - 1, cost, dp),\n",
    "            self.min_cost_at_ith(n - 2, cost, dp),\n",
    "        )\n",
    "\n",
    "\n",
    "if __name__ == \"__main__\":\n",
    "    s: Solution = Solution()\n",
    "    res: int = s.min_cal([16, 19, 10, 12, 18])\n",
    "    print(res)"
   ]
  },
  {
   "cell_type": "code",
   "execution_count": 4,
   "id": "d682f414",
   "metadata": {},
   "outputs": [
    {
     "name": "stdout",
     "output_type": "stream",
     "text": [
      "31\n"
     ]
    }
   ],
   "source": [
    "# Bottom-up\n",
    "\n",
    "\n",
    "class Solution:\n",
    "    def min_cost(self, cost: list[int]) -> int:\n",
    "        n: int = len(cost)\n",
    "\n",
    "        if n <= 1:\n",
    "            return cost[0]\n",
    "\n",
    "        dp: list[int] = [0] * (n + 1)\n",
    "        dp[0] = cost[0]\n",
    "        dp[1] = cost[1]\n",
    "        for i in range(2, n):\n",
    "            dp[i] = cost[i] + min(dp[i - 1], dp[i - 2])\n",
    "\n",
    "        return min(dp[n - 1], dp[n - 2])\n",
    "\n",
    "\n",
    "if __name__ == \"__main__\":\n",
    "    s: Solution = Solution()\n",
    "    s: Solution = Solution()\n",
    "    res: int = s.min_cost([16, 19, 10, 12, 18])\n",
    "    print(res)"
   ]
  },
  {
   "cell_type": "markdown",
   "id": "84f1929c",
   "metadata": {},
   "source": [
    "### Leetcode 198. House Robber\n",
    "\n",
    "<a href=\"https://leetcode.com/problems/house-robber/\">Leetcode198</a>\n"
   ]
  },
  {
   "cell_type": "code",
   "execution_count": 1,
   "id": "13b4ed59",
   "metadata": {},
   "outputs": [
    {
     "name": "stdout",
     "output_type": "stream",
     "text": [
      "4\n"
     ]
    }
   ],
   "source": [
    "class Solution:\n",
    "    def rob(self, nums: list[int]) -> int:\n",
    "        n = len(nums)\n",
    "        if n == 0:\n",
    "            return 0\n",
    "        if n == 1:\n",
    "            return nums[0]\n",
    "\n",
    "        dp: list[int] = [-1] * n\n",
    "        return self.max_cost_at_ith(n - 1, nums, dp)\n",
    "\n",
    "    def max_cost_at_ith(self, i: int, nums: list[int], dp: list[int]) -> int:\n",
    "        if i == 0:  # if there is only 1 house\n",
    "            return nums[0]\n",
    "        if (\n",
    "            i == 1\n",
    "        ):  # if there is only 2 house, choose the house having more money\n",
    "            return max(nums[0], nums[1])\n",
    "\n",
    "        if dp[i] != -1:\n",
    "            return dp[i]\n",
    "\n",
    "        # at i-th, you have two options\n",
    "        # do not rob, so the money at (i - 1)th is fine\n",
    "        # rob, so the current money need to add the cost[i], and make sure it was robbed at (i - 2)th to avoid police\n",
    "        # max_cost(i) = max(max_cost(i - 1), nums[i] + max_cost(i - 2))\n",
    "        dp[i] = max(\n",
    "            self.max_cost_at_ith(i - 1, nums, dp),\n",
    "            nums[i] + self.max_cost_at_ith(i - 2, nums, dp),\n",
    "        )\n",
    "        return dp[i]\n",
    "\n",
    "\n",
    "if __name__ == \"__main__\":\n",
    "    s: Solution = Solution()\n",
    "    print(s.rob([1, 2, 3, 1]))"
   ]
  },
  {
   "cell_type": "markdown",
   "id": "d6597782",
   "metadata": {},
   "source": [
    "### Leetcode "
   ]
  },
  {
   "cell_type": "code",
   "execution_count": null,
   "id": "142dc22a",
   "metadata": {},
   "outputs": [],
   "source": []
  }
 ],
 "metadata": {
  "kernelspec": {
   "display_name": "Python 3",
   "language": "python",
   "name": "python3"
  },
  "language_info": {
   "codemirror_mode": {
    "name": "ipython",
    "version": 3
   },
   "file_extension": ".py",
   "mimetype": "text/x-python",
   "name": "python",
   "nbconvert_exporter": "python",
   "pygments_lexer": "ipython3",
   "version": "3.10.12"
  }
 },
 "nbformat": 4,
 "nbformat_minor": 5
}
