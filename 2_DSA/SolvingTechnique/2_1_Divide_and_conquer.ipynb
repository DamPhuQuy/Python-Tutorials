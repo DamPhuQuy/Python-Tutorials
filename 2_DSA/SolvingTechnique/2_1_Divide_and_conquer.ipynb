{
 "cells": [
  {
   "cell_type": "markdown",
   "id": "12fd299b",
   "metadata": {},
   "source": [
    "# Divide and conquer\n",
    "\n",
    "At its core, it's a way to solve a **complex problem** by breaking it into **smaller**, more manageable pieces. Imagine you have a huge, shuffled stack of exam papers to sort alphabetically. Doing it all at once would be overwhelming.\n",
    "\n",
    "Divide and Conquer approach:\n",
    "\n",
    "- *Divide*: Split the large stack into two smaller, roughly equal stacks.\n",
    "\n",
    "- *Conquer*: Give one half to a friend to sort while you sort the other half. If your stack is still too big, you split it again and sort the smaller piles first. This continues until you have piles so small (like just one paper) that they are already sorted.\n",
    "\n",
    "- *Combine*: Once you both have a perfectly sorted stack, you can easily merge them back together into one final, sorted pile."
   ]
  }
 ],
 "metadata": {
  "language_info": {
   "name": "python"
  }
 },
 "nbformat": 4,
 "nbformat_minor": 5
}
