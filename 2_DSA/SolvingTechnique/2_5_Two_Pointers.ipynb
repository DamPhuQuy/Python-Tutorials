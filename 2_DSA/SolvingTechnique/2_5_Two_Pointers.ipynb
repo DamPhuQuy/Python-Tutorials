{
 "cells": [
  {
   "cell_type": "markdown",
   "id": "4215c990",
   "metadata": {},
   "source": [
    "# Two Pointers\n",
    "\n",
    "- The Two-Pointers Technique is a simple yet powerful strategy where you use two indices (pointers) that traverse a data structure—such as an array, list, or string—either toward each other or in the same direction to solve problems more efficiently.\n",
    "\n",
    "**When to Use Two Pointers:**\n",
    "\n",
    "- Sorted Input : If the array or list is already sorted (or can be sorted), two pointers can efficiently find pairs or ranges. Example: Find two numbers in a sorted array that add up to a target.\n",
    "- Pairs or Subarrays : When the problem asks about two elements, subarrays, or ranges instead of working with single elements. Example: Longest substring without repeating characters, maximum consecutive ones, checking if a string is palindrome.\n",
    "- Sliding Window Problems : When you need to maintain a window of elements that grows/shrinks based on conditions. Example: Find smallest subarray with sum ≥ K, move all zeros to end while maintaining order.\n",
    "- Linked Lists (Slow–Fast pointers) : Detecting cycles, finding the middle node, or checking palindrome property. Example: Floyd’s Cycle Detection Algorithm (Tortoise and Hare).\n"
   ]
  },
  {
   "cell_type": "code",
   "execution_count": null,
   "id": "d72d1de5",
   "metadata": {},
   "outputs": [
    {
     "name": "stdout",
     "output_type": "stream",
     "text": [
      "True\n",
      "False\n",
      "True\n"
     ]
    }
   ],
   "source": [
    "# Given a sorted array arr (sorted in ascending order) and a target, find if there exists any pair of elements (arr[i], arr[j]) such that their sum is equal to the target.\n",
    "\n",
    "# Input: arr[] = [10, 20, 35, 50], target =70\n",
    "# Output:  true\n",
    "# Explanation : There is a pair (20, 50) with given target.\n",
    "\n",
    "# Input: arr[] = [10, 20, 30], target =70\n",
    "# Output :  false\n",
    "# Explanation : There is no pair with sum 70\n",
    "\n",
    "# Input: arr[] = [-8, 1, 4, 6, 10, 45], target = 16\n",
    "# Output: true\n",
    "# Explanation : There is a pair (6, 10) with given target.\n",
    "\n",
    "\n",
    "def find_pair_with_sum(a: list[int], target: int) -> bool:\n",
    "    left: int = 0\n",
    "    right: int = len(a) - 1\n",
    "\n",
    "    # because the array is sorted, two pointers work, from right is decreasing, from left is increasing\n",
    "    while left < right:\n",
    "        current_sum: int = a[left] + a[right]\n",
    "        if current_sum == target:\n",
    "            return True\n",
    "        elif current_sum < target:\n",
    "            left += 1\n",
    "        else:\n",
    "            right -= 1\n",
    "\n",
    "    return False\n",
    "\n",
    "\n",
    "if __name__ == \"__main__\":\n",
    "    arr1: list[int] = [10, 20, 35, 50]\n",
    "    target1: int = 70\n",
    "    print(find_pair_with_sum(arr1, target1))  # True\n",
    "\n",
    "    arr2: list[int] = [10, 20, 30]\n",
    "    target2: int = 70\n",
    "    print(find_pair_with_sum(arr2, target2))  # False\n",
    "\n",
    "    arr3: list[int] = [-8, 1, 4, 6, 10, 45]\n",
    "    target3: int = 16\n",
    "    print(find_pair_with_sum(arr3, target3))  # True"
   ]
  },
  {
   "cell_type": "code",
   "execution_count": 14,
   "id": "09440ce5",
   "metadata": {},
   "outputs": [
    {
     "name": "stdout",
     "output_type": "stream",
     "text": [
      "3\n"
     ]
    }
   ],
   "source": [
    "# Leet code 26. Remove Duplicates from sorted array\n",
    "# https://leetcode.com/problems/remove-duplicates-from-sorted-array\n",
    "\n",
    "class Solution: \n",
    "    def removeDuplicates(self, nums: list[int]) -> int: \n",
    "        if not nums: \n",
    "            return 0\n",
    "\n",
    "        k: int = 1 \n",
    "        i: int = 1 \n",
    "        while i < len(nums):\n",
    "            if nums[i] != nums[i - 1]: \n",
    "                nums[k] = nums[i]\n",
    "                k += 1\n",
    "            i += 1 \n",
    "        \n",
    "        return k\n",
    "        \n",
    "    \n",
    "if __name__ == \"__main__\": \n",
    "    a: list[int] = [1, 2, 2, 2, 3] \n",
    "    s: Solution = Solution() \n",
    "    k: int = s.removeDuplicates(a) \n",
    "    print(k)         "
   ]
  }
 ],
 "metadata": {
  "kernelspec": {
   "display_name": "base",
   "language": "python",
   "name": "python3"
  },
  "language_info": {
   "codemirror_mode": {
    "name": "ipython",
    "version": 3
   },
   "file_extension": ".py",
   "mimetype": "text/x-python",
   "name": "python",
   "nbconvert_exporter": "python",
   "pygments_lexer": "ipython3",
   "version": "3.13.5"
  }
 },
 "nbformat": 4,
 "nbformat_minor": 5
}
