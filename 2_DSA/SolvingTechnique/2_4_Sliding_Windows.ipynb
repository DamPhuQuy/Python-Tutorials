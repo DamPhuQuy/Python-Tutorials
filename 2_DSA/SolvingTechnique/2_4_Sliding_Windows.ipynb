{
 "cells": [
  {
   "cell_type": "markdown",
   "id": "324f04c7",
   "metadata": {},
   "source": [
    "# Sliding windows\n",
    "\n",
    "<img src=\"https://media.geeksforgeeks.org/wp-content/uploads/20240306112433/sliding-window-1.webp\"> <img src=\"https://media.geeksforgeeks.org/wp-content/uploads/20240306112450/sliding-window-technique-2.webp\">\n",
    "\n",
    "\"Expand right, contract left\"\n",
    "\n",
    "This technique is often applied when the problem requires:\n",
    "\n",
    "- Finding the sum, average, or another property of a contiguous subarray (or substring).\n",
    "- Determining the maximum or minimum length of a subarray that satisfies a specific condition.\n",
    "- Optimizing a brute-force solution from a time complexity of O(n²) down to O(n).\n",
    "\n",
    "## **Types of Sliding Window**\n",
    "\n",
    "**a) Fixed-Size Window**\n",
    "\n",
    "This is the most basic form, where the window has a fixed size `k`.\n",
    "**Example:** Find the maximum sum of a subarray with a length of `k`.\n",
    "\n",
    "```csharp\n",
    "public int MaxSumSubarray(int[] nums, int k) {\n",
    "    int maxSum = 0, windowSum = 0;\n",
    "    for (int i = 0; i < k; i++) {\n",
    "        windowSum += nums[i];\n",
    "    }\n",
    "    maxSum = windowSum;\n",
    "    for (int i = k; i < nums.Length; i++) {\n",
    "        windowSum += nums[i] - nums[i - k];\n",
    "        maxSum = Math.Max(maxSum, windowSum);\n",
    "    }\n",
    "    return maxSum;\n",
    "}\n",
    "```\n",
    "\n",
    "**Time Complexity:** O(n)\n",
    "\n",
    "**b) Dynamic-Size Window (Variable-Size Window)**\n",
    "\n",
    "In this form, the window size changes. It is often used when you need to find the **shortest/longest** subarray that satisfies a certain condition.\n",
    "**Example:** Find the shortest subarray with a sum greater than or equal to `target`.\n",
    "\n",
    "```csharp\n",
    "public int MinSubArrayLen(int target, int[] nums) {\n",
    "    int left = 0, sum = 0, minLength = int.MaxValue;\n",
    "    for (int right = 0; right < nums.Length; right++) {\n",
    "        sum += nums[right];\n",
    "        while (sum >= target) {\n",
    "            minLength = Math.Min(minLength, right - left + 1);\n",
    "            sum -= nums[left];\n",
    "            left++;\n",
    "        }\n",
    "    }\n",
    "    return minLength == int.MaxValue ? 0 : minLength;\n",
    "}\n",
    "```\n",
    "\n",
    "**Time Complexity:** O(n)\n",
    "\n",
    "## **When Not to Use Sliding Window**\n",
    "\n",
    "  * When the elements are unsorted and the problem requires random access.\n",
    "  * When the problem requires checking many non-contiguous combinations.\n",
    "  * When there isn't a specific rule to expand or shrink the window."
   ]
  },
  {
   "cell_type": "code",
   "execution_count": null,
   "id": "e4684d8c",
   "metadata": {},
   "outputs": [
    {
     "name": "stdout",
     "output_type": "stream",
     "text": [
      "4\n"
     ]
    }
   ],
   "source": [
    "# Find the length at the longest subarray with the same value in each position.\n",
    "\n",
    "def length_longest_subarray(a: list[int]) -> int: \n",
    "    left: int = 0\n",
    "    right: int = 0 \n",
    "    max_length: int = 0\n",
    "\n",
    "    n: int = len(a)\n",
    "    while right < n: \n",
    "        if a[right] == a[left]: \n",
    "            current_length: int = right - left + 1\n",
    "            max_length = max(max_length, current_length) \n",
    "            right += 1\n",
    "        else: \n",
    "            left = right\n",
    "\n",
    "    return max_length\n",
    "if __name__ == \"__main__\":\n",
    "    a: list[int] = [7, 3, 3, 3, 2, 2, 2, 2] \n",
    "    print(length_longest_subarray(a))"
   ]
  },
  {
   "cell_type": "code",
   "execution_count": null,
   "id": "8bb4b05c",
   "metadata": {},
   "outputs": [
    {
     "name": "stdout",
     "output_type": "stream",
     "text": [
      "2\n"
     ]
    }
   ],
   "source": [
    "# Find the minumum length of subarray with sum >= target. \n",
    "\n",
    "def min_length_subarray(a: list[int], target: int) -> int:\n",
    "    left: int = 0\n",
    "    right: int = 0\n",
    "    current_sum: int = 0\n",
    "    min_length: int = 0 \n",
    "\n",
    "    while right < len(a): \n",
    "        current_sum += a[right]\n",
    "\n",
    "        while current_sum >= target: \n",
    "            min_length = min(min_length, right - left + 1) if min_length != 0 else right - left + 1\n",
    "            current_sum -= a[left] \n",
    "            left += 1\n",
    "\n",
    "        right += 1\n",
    "    return min_length if min_length != 0 else 0\n",
    "\n",
    "if __name__ == \"__main__\":\n",
    "    a: list[int] = [2,3,1,2,4,3,0]\n",
    "    target: int = 7 \n",
    "    print(min_length_subarray(a, target))"
   ]
  }
 ],
 "metadata": {
  "kernelspec": {
   "display_name": "base",
   "language": "python",
   "name": "python3"
  },
  "language_info": {
   "codemirror_mode": {
    "name": "ipython",
    "version": 3
   },
   "file_extension": ".py",
   "mimetype": "text/x-python",
   "name": "python",
   "nbconvert_exporter": "python",
   "pygments_lexer": "ipython3",
   "version": "3.13.5"
  }
 },
 "nbformat": 4,
 "nbformat_minor": 5
}
