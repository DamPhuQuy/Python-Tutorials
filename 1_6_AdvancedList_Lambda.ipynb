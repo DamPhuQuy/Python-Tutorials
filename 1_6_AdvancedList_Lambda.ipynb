{
 "cells": [
  {
   "cell_type": "markdown",
   "id": "69fc288e",
   "metadata": {},
   "source": [
    "## List Comprehension\n",
    "- Compact way of creating a list from a sequence. \n",
    "- Short way to create a new list. \n",
    "- faster than processing a list using for loop.\n",
    "- List comprehension in python = .map() or .filter() or both of them combined in JavaScript"
   ]
  },
  {
   "cell_type": "markdown",
   "id": "3e26f5a0",
   "metadata": {},
   "source": [
    "#### syntax\n",
    "- [i **for i in iterable** if expression]\n",
    "\n",
    "- \"for i in iterable\" is literally basic loop syntax. i is representative for element.\n",
    "\n",
    "- [i for in iterable] ~ .map() \n",
    "\n",
    "- [i for in iterable if expression] ~ .filter() "
   ]
  },
  {
   "cell_type": "code",
   "execution_count": 1,
   "id": "9aa1f991",
   "metadata": {},
   "outputs": [
    {
     "name": "stdout",
     "output_type": "stream",
     "text": [
      "<class 'list'>\n",
      "['P', 'y', 't', 'h', 'o', 'n']\n",
      "<class 'list'>\n",
      "['P', 'y', 't', 'h', 'o', 'n']\n"
     ]
    }
   ],
   "source": [
    "# Example 1: \n",
    "# change a string to a list of characters.\n",
    "\n",
    "# One way\n",
    "language: str = \"Python\"\n",
    "lst: list[str] = list(language) # changing the string to list\n",
    "print(type(lst)) # list\n",
    "print(lst) \n",
    "\n",
    "# Second way: list comprehension \n",
    "lst2: list[str] = [i for i in language] \n",
    "print(type(lst2)) # list\n",
    "print(lst2)"
   ]
  },
  {
   "cell_type": "code",
   "execution_count": 5,
   "id": "95bfa8d1",
   "metadata": {},
   "outputs": [
    {
     "name": "stdout",
     "output_type": "stream",
     "text": [
      "[0, 1, 2, 3, 4, 5, 6, 7, 8, 9, 10]\n",
      "[0, 1, 4, 9, 16, 25, 36, 49, 64, 81, 100]\n",
      "[(0, 0), (1, 1), (2, 4), (3, 9), (4, 16), (5, 25), (6, 36), (7, 49), (8, 64), (9, 81), (10, 100)]\n"
     ]
    }
   ],
   "source": [
    "# Example 2\n",
    "\n",
    "# Generate a list of numbers\n",
    "numbers: list[int] = [i for i in range(11)] \n",
    "print(numbers) \n",
    "\n",
    "# mathematical operations\n",
    "squares: list[int] = [i * i for i in range(11)]\n",
    "print(squares)\n",
    "\n",
    "# make a list of tuples\n",
    "numbers2: list[tuple[int, int]] = [(i, i * i) for i in range(11)] \n",
    "print(numbers2) "
   ]
  },
  {
   "cell_type": "code",
   "execution_count": null,
   "id": "ec312078",
   "metadata": {},
   "outputs": [
    {
     "name": "stdout",
     "output_type": "stream",
     "text": [
      "[0, 2, 4, 6, 8, 10, 12, 14, 16, 18, 20]\n",
      "[1, 3, 5, 7, 9, 11, 13, 15, 17, 19]\n",
      "[4, 6, 8, 10]\n",
      "[-7, -3, -1]\n",
      "[1, 2, 3, 4, 5, 6, 7, 8, 9]\n"
     ]
    }
   ],
   "source": [
    "# Example 3\n",
    "# List comprehension can be combined with if expression \n",
    "\n",
    "# Generate even numbers\n",
    "even_numbers: list[int] = [i for i in range(21) if i % 2 == 0] \n",
    "print(even_numbers)\n",
    " \n",
    "# Generate odd numbers\n",
    "odd_numbers: list[int] = [i for i in range(21) if i % 2 != 0]\n",
    "print(odd_numbers) \n",
    "\n",
    "# Filter numbers\n",
    "numbers: list[int] = [-8, -7, -3, -1, 0, 1, 3, 4, 5, 7, 6, 8, 10] \n",
    "positive_even_numbers: list[int] = [element for element in numbers if element > 0 and element % 2 == 0] \n",
    "negative_odd_numbers: list[int] = [element for element in numbers if element < 0 and element % 2 != 0] \n",
    "print(positive_even_numbers) \n",
    "print(negative_odd_numbers)\n",
    "\n",
    "# Flattening a three dimensional array \n",
    "# Convert dimensional array to 1D array\n",
    "list_of_lists: list[list[int]] = [\n",
    "    [1, 2, 3], \n",
    "    [4, 5, 6],\n",
    "    [7, 8, 9]\n",
    "]\n",
    "flattened_list: list[int] = [\n",
    "    number\n",
    "    for row in list_of_lists\n",
    "        for number in row\n",
    "    # basically traverse 2D array and assign to flattened_list\n",
    "]\n",
    "print(flattened_list)"
   ]
  },
  {
   "cell_type": "markdown",
   "id": "3da44a66",
   "metadata": {},
   "source": [
    "## Lambda expression\n",
    "\n",
    "- Lambda function is a small anonymous function without a name. It can take any number of arguments, but can only have one expression. \n",
    "- Lambda function is similar to anonymous functions in JavaScript. We need it when we want to write an anonymous function inside another function."
   ]
  },
  {
   "cell_type": "markdown",
   "id": "de253770",
   "metadata": {},
   "source": [
    "#### syntax\n",
    "\n",
    "```python\n",
    "x = lambda param1, param2, param3: param1 + param2 + param3\n",
    "print(x(arg1, arg2, arg3))\n",
    "\n",
    "# ~ x = (param1, param2, param3 => {\n",
    "#      // code\n",
    "#})\n",
    "```"
   ]
  },
  {
   "cell_type": "code",
   "execution_count": null,
   "id": "a392bff0",
   "metadata": {},
   "outputs": [
    {
     "name": "stdout",
     "output_type": "stream",
     "text": [
      "8\n",
      "8\n"
     ]
    }
   ],
   "source": [
    "from typing import Callable\n",
    "\n",
    "# normal function\n",
    "def sum(a: int, b: int) -> int: \n",
    "    return a + b\n",
    "\n",
    "print(sum(5, 3))\n",
    "\n",
    "# lambda expression\n",
    "add_two_numbers: Callable[[int, int], int] = lambda a, b: a + b # [a: int, b: int], lambda returns int type\n",
    "print(add_two_numbers(5, 3))\n"
   ]
  },
  {
   "cell_type": "code",
   "execution_count": 2,
   "id": "bb7a8032",
   "metadata": {},
   "outputs": [
    {
     "name": "stdout",
     "output_type": "stream",
     "text": [
      "8\n"
     ]
    }
   ],
   "source": [
    "# Lambda function inside another function \n",
    "from typing import Callable\n",
    "\n",
    "def power(x: int) -> Callable[[int], int]: \n",
    "    return lambda n: x ** n\n",
    "\n",
    "print(power(2)(3)) "
   ]
  },
  {
   "cell_type": "code",
   "execution_count": null,
   "id": "940cac72",
   "metadata": {},
   "outputs": [
    {
     "name": "stdout",
     "output_type": "stream",
     "text": [
      "[-4, -3, -2, -1, 0]\n"
     ]
    }
   ],
   "source": [
    "# Exercise 1\n",
    "# Filter only negative and zero in the list using list comprehension\n",
    "\n",
    "numbers: list[int] = [-4, -3, -2, -1, 0, 2, 4, 6]\n",
    "greater_than_zero_list: list[int] = [element for element in numbers if element <= 0]\n",
    "print(greater_than_zero_list) "
   ]
  },
  {
   "cell_type": "code",
   "execution_count": null,
   "id": "624250a1",
   "metadata": {},
   "outputs": [
    {
     "name": "stdout",
     "output_type": "stream",
     "text": [
      "[1, 2, 3, 4, 5, 6, 7, 8, 9]\n"
     ]
    }
   ],
   "source": [
    "# Exercise 2\n",
    "# Flatten the following list of lists of lists to a one dimensional list :\n",
    "\n",
    "list_of_lists: list[list[list[int]]] = [ # 3D array\n",
    "    [\n",
    "        [1, 2, 3]\n",
    "    ],\n",
    "    [\n",
    "        [4, 5, 6]\n",
    "    ],\n",
    "    [\n",
    "        [7, 8, 9]\n",
    "    ]\n",
    "]\n",
    "\n",
    "flattened_list: list[int] = [\n",
    "    element\n",
    "    for row in list_of_lists\n",
    "        for col in row\n",
    "            for element in col\n",
    "    # traverse through 3D array\n",
    "]\n",
    "print(flattened_list)"
   ]
  },
  {
   "cell_type": "code",
   "execution_count": 7,
   "id": "d13ebe58",
   "metadata": {},
   "outputs": [
    {
     "name": "stdout",
     "output_type": "stream",
     "text": [
      "['Finland', 'Helsinki', 'Sweden', 'Stockholm', 'Norway', 'Oslo']\n"
     ]
    }
   ],
   "source": [
    "# Flatten the following list to a new list\n",
    "\n",
    "countries: list[list[tuple[str, str]]] = [\n",
    "    [\n",
    "        ('Finland', 'Helsinki')\n",
    "    ], \n",
    "    [\n",
    "        ('Sweden', 'Stockholm')\n",
    "    ], \n",
    "    [\n",
    "        ('Norway', 'Oslo')\n",
    "    ]\n",
    "]\n",
    "flattened_list: list[str] = [\n",
    "    element\n",
    "    for line in countries\n",
    "        for row in line\n",
    "            for element in row\n",
    "]\n",
    "print(flattened_list)"
   ]
  },
  {
   "cell_type": "code",
   "execution_count": null,
   "id": "f00ca5a5",
   "metadata": {},
   "outputs": [
    {
     "name": "stdout",
     "output_type": "stream",
     "text": [
      "[{'Country': 'Finland'}, {'Country': 'Helsinki'}, {'Country': 'Sweden'}, {'Country': 'Stockholm'}, {'Country': 'Norway'}, {'Country': 'Oslo'}]\n"
     ]
    }
   ],
   "source": [
    "# Change the following list to a list of dictionaries\n",
    "\n",
    "countries: list[list[tuple[str, str]]] = [[('Finland', 'Helsinki')], [('Sweden', 'Stockholm')], [('Norway', 'Oslo')]]\n",
    "\n",
    "list_of_dict: list[dict[str, str]] = [] \n",
    "\n",
    "for line in countries: \n",
    "    for row in line: \n",
    "        for element in row: \n",
    "            temp: dict[str, str] = { \n",
    "                \"Country\" : element\n",
    "            }\n",
    "            list_of_dict.append(temp)\n",
    "\n",
    "print(list_of_dict)"
   ]
  },
  {
   "cell_type": "code",
   "execution_count": null,
   "id": "5d31169e",
   "metadata": {},
   "outputs": [
    {
     "name": "stdout",
     "output_type": "stream",
     "text": [
      "['Asabeneh Yetayeh', 'David Smith', 'Donald Trump', 'Bill Gates']\n"
     ]
    }
   ],
   "source": [
    "# Change the following list of lists to a list of concatenated strings: \n",
    "names: list[list[tuple[str, str]]] = [\n",
    "    [('Asabeneh', 'Yetayeh')], \n",
    "    [('David', 'Smith')], \n",
    "    [('Donald', 'Trump')], \n",
    "    [('Bill', 'Gates')]\n",
    "]\n",
    "\n",
    "output: list[str] = [] \n",
    "for line in names:\n",
    "    for row in line:\n",
    "        temp: str = \"\" \n",
    "        for element in row: \n",
    "            temp += element\n",
    "            temp += \" \"\n",
    "        output.append(temp.strip()) # strip() ~ trim()\n",
    "\n",
    "print(output)"
   ]
  }
 ],
 "metadata": {
  "kernelspec": {
   "display_name": "base",
   "language": "python",
   "name": "python3"
  },
  "language_info": {
   "codemirror_mode": {
    "name": "ipython",
    "version": 3
   },
   "file_extension": ".py",
   "mimetype": "text/x-python",
   "name": "python",
   "nbconvert_exporter": "python",
   "pygments_lexer": "ipython3",
   "version": "3.13.5"
  }
 },
 "nbformat": 4,
 "nbformat_minor": 5
}
