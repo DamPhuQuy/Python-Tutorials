{
 "cells": [
  {
   "cell_type": "markdown",
   "id": "46afdd73",
   "metadata": {},
   "source": [
    "# Regular Expression (Regex) \n",
    "\n",
    "- A regular expression or RegEx is a special text string that helps to find patterns in data. \n",
    "- A RegEx can be used to check if some pattern exists in a different data type."
   ]
  },
  {
   "cell_type": "code",
   "execution_count": null,
   "id": "9dedf5f2",
   "metadata": {},
   "outputs": [],
   "source": [
    "# The \"re\" module\n",
    "import re"
   ]
  },
  {
   "cell_type": "markdown",
   "id": "4e4de27f",
   "metadata": {},
   "source": [
    "### Methods in <i>re</i> module\n",
    "To find a pattern, we use different set of regex characters that allows to search for a match in a string\n",
    "- *re.compile(r\"\", re.I)*: actively compile pattern to RegexObject (re.Pattern), re.I is cate ignore\n",
    "- *re.match()*: searches only in the beginning of the first string and returns matched objects if found, else returns None. \n",
    "- *re.search()*: Returns a match object if there is one anywhere in the string, including multiline strings. \n",
    "- *re.findall()*: Returns a list containing all matches. \n",
    "- *re.split()*: Takes a string, splits it at the match points, returns a list.\n",
    "- *re.sub()*: Replaces one or manhh matches within a string.\n",
    "\n",
    "### RegexObject (one-time compile, multiple-time use)\n",
    "\n",
    "- compile to regexObject by using re.compile(regex) \n",
    "- a compiled version of traditional pattern which `re` use internal every time you call function. \n",
    "- It is much faster\n",
    "- It is bigger in length, but professional\n",
    "- Have some methods: .search(), .match(), .findall(), .sub(), ..."
   ]
  },
  {
   "cell_type": "code",
   "execution_count": null,
   "id": "7ade38cb",
   "metadata": {},
   "outputs": [
    {
     "name": "stdout",
     "output_type": "stream",
     "text": [
      "<re.Match object; span=(0, 15), match='I love to teach'>\n",
      "(0, 15)\n",
      "0 15\n",
      "I love to teach\n"
     ]
    }
   ],
   "source": [
    "# pattern.match(string)\n",
    "# pattern is the part that we use it to find, string is the text that we look for a pattern\n",
    "\n",
    "import re\n",
    "from re import Pattern\n",
    "\n",
    "text: str = \"I love to teach python and javascript\"\n",
    "\n",
    "pattern: Pattern[str] = re.compile(\"I love to teach\", re.I)\n",
    "\n",
    "match = pattern.match(text)\n",
    "\n",
    "print(match)\n",
    "if match is not None:\n",
    "    span: tuple[int, int] = match.span() \n",
    "    print(span) \n",
    "\n",
    "    start, end = span # unpacking\n",
    "    print(start, end)\n",
    "\n",
    "    substring: str = text[start:end] # slicing\n",
    "\n",
    "    print(substring) "
   ]
  },
  {
   "cell_type": "code",
   "execution_count": 1,
   "id": "bc969b12",
   "metadata": {},
   "outputs": [
    {
     "name": "stdout",
     "output_type": "stream",
     "text": [
      "<re.Match object; span=(100, 105), match='first'>\n",
      "(100, 105)\n",
      "first\n"
     ]
    }
   ],
   "source": [
    "# pattern.search(string) \n",
    "\n",
    "from re import Pattern\n",
    "import re\n",
    "\n",
    "text: str = \"\"\"Python is the most beautiful language that a human being has ever created. I recommend python for a first programming language\"\"\"\n",
    "\n",
    "pattern: Pattern[str] = re.compile(\"first\", re.I) \n",
    "match = pattern.search(text)\n",
    "print(match) \n",
    "\n",
    "if match is not None:\n",
    "    span: tuple[int, int] = match.span()\n",
    "    print(span) \n",
    "\n",
    "    start, end = span \n",
    "    substring: str = text[start:end] \n",
    "    print(substring) \n"
   ]
  },
  {
   "cell_type": "code",
   "execution_count": null,
   "id": "0a4f4de5",
   "metadata": {},
   "outputs": [
    {
     "name": "stdout",
     "output_type": "stream",
     "text": [
      "['language', 'language']\n"
     ]
    }
   ],
   "source": [
    "# pattern.findall(string) \n",
    "\n",
    "import re\n",
    "from re import Pattern\n",
    "\n",
    "text: str = \"\"\"Python is the most beautiful language that a human being has ever created. I recommend python for a first programming language\"\"\"\n",
    "\n",
    "pattern: Pattern[str] = re.compile(\"language\", re.I) \n",
    "\n",
    "matches = pattern.findall(text) \n",
    "print(matches) "
   ]
  },
  {
   "cell_type": "code",
   "execution_count": null,
   "id": "3d62ff07",
   "metadata": {},
   "outputs": [
    {
     "name": "stdout",
     "output_type": "stream",
     "text": [
      "JavaScript is the most beautiful language that a human being has ever created. I recommend JavaScript for a first programming language\n"
     ]
    }
   ],
   "source": [
    "# pattern.sub(\"string_to_replace\", text)\n",
    "\n",
    "import re\n",
    "from re import Pattern \n",
    "\n",
    "text: str = \"\"\"Python is the most beautiful language that a human being has ever created. I recommend python for a first programming language\"\"\"\n",
    "\n",
    "pattern: Pattern[str] = re.compile(\"Python|python\", re.I)\n",
    "\n",
    "match_replaced: str = pattern.sub(\"JavaScript\", text)\n",
    "\n",
    "print(match_replaced)"
   ]
  },
  {
   "cell_type": "code",
   "execution_count": 9,
   "id": "880b6c99",
   "metadata": {},
   "outputs": [
    {
     "name": "stdout",
     "output_type": "stream",
     "text": [
      "['I am teacher and  I love teaching.', 'There is nothing as rewarding as educating and empowering people.', 'I found teaching more interesting than any other jobs.', 'Does this motivate you to be a teacher?']\n"
     ]
    }
   ],
   "source": [
    "import re\n",
    "from re import Pattern\n",
    "\n",
    "txt = '''I am teacher and  I love teaching.\n",
    "There is nothing as rewarding as educating and empowering people.\n",
    "I found teaching more interesting than any other jobs.\n",
    "Does this motivate you to be a teacher?'''\n",
    "\n",
    "pattern: Pattern[str] = re.compile(\"\\n\") \n",
    "\n",
    "matches: list[str] = pattern.split(txt) \n",
    "\n",
    "print(matches) "
   ]
  },
  {
   "cell_type": "markdown",
   "id": "a132af3f",
   "metadata": {},
   "source": [
    "##### Writing RegEx Patterns\n",
    "\n",
    "* []:  A set of characters\n",
    "  - [a-c] means, a or b or c\n",
    "  - [a-z] means, any letter from a to z\n",
    "  - [A-Z] means, any character from A to Z\n",
    "  - [0-3] means, 0 or 1 or 2 or 3\n",
    "  - [0-9] means any number from 0 to 9\n",
    "  - [A-Za-z0-9] any single character, that is a to z, A to Z or 0 to 9\n",
    "- \\\\:  uses to escape special characters\n",
    "  - \\d means: match where the string contains digits (numbers from 0-9)\n",
    "  - \\D means: match where the string does not contain digits\n",
    "- . : any character except new line character(\\n)\n",
    "- ^: starts with\n",
    "  - r'^substring' eg r'^love', a sentence that starts with a word love\n",
    "  - r'[^abc] means not a, not b, not c.\n",
    "- $: ends with\n",
    "  - r'substring$' eg r'love$', sentence  that ends with a word love\n",
    "- *: zero or more times\n",
    "  - r'[a]*' means a optional or it can occur many times.\n",
    "- +: one or more times\n",
    "  - r'[a]+' means at least once (or more)\n",
    "- ?: zero or one time\n",
    "  - r'[a]?' means zero times or once\n",
    "- {3}: Exactly 3 characters\n",
    "- {3,}: At least 3 characters\n",
    "- {3,8}: 3 to 8 characters\n",
    "- |: Either or\n",
    "  - r'apple|banana' means either apple or a banana\n",
    "- (): Capture and group\n",
    "\n",
    "<img src=\"images/regex.png\">"
   ]
  }
 ],
 "metadata": {
  "kernelspec": {
   "display_name": "base",
   "language": "python",
   "name": "python3"
  },
  "language_info": {
   "codemirror_mode": {
    "name": "ipython",
    "version": 3
   },
   "file_extension": ".py",
   "mimetype": "text/x-python",
   "name": "python",
   "nbconvert_exporter": "python",
   "pygments_lexer": "ipython3",
   "version": "3.13.5"
  }
 },
 "nbformat": 4,
 "nbformat_minor": 5
}
