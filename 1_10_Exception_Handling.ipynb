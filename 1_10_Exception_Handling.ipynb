{
 "cells": [
  {
   "cell_type": "markdown",
   "id": "fc8d1522",
   "metadata": {},
   "source": [
    "## Exception Handling\n",
    "\n",
    "<img src=\"images/image.png\">\n",
    "\n",
    "```python\n",
    "try:\n",
    "    code in this block if things go well \n",
    "except: \n",
    "    code in this block if things go wrong\n",
    "```"
   ]
  },
  {
   "cell_type": "code",
   "execution_count": 4,
   "id": "65bd2627",
   "metadata": {},
   "outputs": [
    {
     "name": "stdout",
     "output_type": "stream",
     "text": [
      "ValueError occurred\n",
      "I always run\n"
     ]
    }
   ],
   "source": [
    "try:\n",
    "    name: str = input(\"Enter your name:\") \n",
    "    year_born: int = int(input(\"Year you were born:\"))\n",
    "    age: int = 2025 - year_born\n",
    "    print(f\"You are {name}. And your age is {age}\")\n",
    "    print(1/0)\n",
    "except TypeError: \n",
    "    print(\"TypeError occurred\") \n",
    "except ValueError: \n",
    "    print(\"ValueError occurred\") \n",
    "except ZeroDivisionError:\n",
    "    print(\"ZeroDivisionError occurred\") \n",
    "else:\n",
    "    print(\"I usually run with the try block\") \n",
    "finally: \n",
    "    print(\"I always run\")"
   ]
  },
  {
   "cell_type": "code",
   "execution_count": 5,
   "id": "48682891",
   "metadata": {},
   "outputs": [
    {
     "name": "stdout",
     "output_type": "stream",
     "text": [
      "invalid literal for int() with base 10: 'jj'\n"
     ]
    }
   ],
   "source": [
    "# shorten \n",
    "try:\n",
    "    name = input('Enter your name:')\n",
    "    year_born = input('Year you born:')\n",
    "    age = 2019 - int(year_born)\n",
    "    print(f'You are {name}. And your age is {age}.')\n",
    "except Exception as e:\n",
    "    print(e)\n"
   ]
  }
 ],
 "metadata": {
  "kernelspec": {
   "display_name": "base",
   "language": "python",
   "name": "python3"
  },
  "language_info": {
   "codemirror_mode": {
    "name": "ipython",
    "version": 3
   },
   "file_extension": ".py",
   "mimetype": "text/x-python",
   "name": "python",
   "nbconvert_exporter": "python",
   "pygments_lexer": "ipython3",
   "version": "3.13.5"
  }
 },
 "nbformat": 4,
 "nbformat_minor": 5
}
