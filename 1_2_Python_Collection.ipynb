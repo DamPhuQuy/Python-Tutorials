{
 "cells": [
  {
   "cell_type": "markdown",
   "id": "159d4a17",
   "metadata": {},
   "source": [
    "# Day02\n",
    "\n",
    "## Mutable and immutable\n",
    "\n",
    "| Feature              | Mutable Objects                                                                                           | Immutable Objects                                                                                                  |\n",
    "| -------------------- | --------------------------------------------------------------------------------------------------------- | ------------------------------------------------------------------------------------------------------------------ |\n",
    "| Modifiability        | Can be changed in-place after creation.                                                                   | Cannot be changed after creation. A new object is created for any modification.                                    |\n",
    "| Memory               | Generally more memory-efficient for frequent modifications as changes happen in the same memory location. | Can be less memory-efficient for frequent changes due to the creation of new objects.                              |\n",
    "| Thread Safety        | Not inherently thread-safe. Multiple threads modifying the same object can lead to unpredictable results. | Inherently thread-safe. Since they can't be changed, they can be safely shared among multiple threads.             |\n",
    "| Use Cases Situations | requiring frequent updates, like a shopping cart in an e-commerce app or a user's profile information.    | Situations where the data should not change, such as configuration settings, or when used as keys in dictionaries. |\n",
    "\n",
    "## Shallow copy and deep copy\n",
    "\n",
    "## List\n",
    "\n",
    "- List: is a collection which is ordered and changeable(modifiable). Allows duplicate members.\n",
    "\n",
    "**Common list methods:**\n",
    "\n",
    "```\n",
    "append() - Add an element to the end of the list\n",
    "extend() - Add all elements of a list to the another list\n",
    "insert() - Insert an item at the defined index\n",
    "remove() - Removes an item from the list\n",
    "pop()    - Removes and returns an element at the given index\n",
    "clear()  - Removes all items from the list\n",
    "index()  - Returns the index of the first matched item\n",
    "count()  - Returns the count of number of items passed as an argument\n",
    "sort()   - Sort items in a list in ascending order\n",
    "reverse() - Reverse the order of items in the list\n",
    "copy()   - Returns a shallow copy of the list\n",
    "\n",
    "```\n"
   ]
  },
  {
   "cell_type": "code",
   "execution_count": null,
   "id": "40b6022b",
   "metadata": {},
   "outputs": [
    {
     "name": "stdout",
     "output_type": "stream",
     "text": [
      "0\n",
      "0\n"
     ]
    }
   ],
   "source": [
    "# Create a list\n",
    "\n",
    "# Using list built-in function\n",
    "empty_list = list()\n",
    "print(len(empty_list))\n",
    "\n",
    "\n",
    "# Using square brackets []\n",
    "empty_list2 = []\n",
    "print(len(empty_list2))"
   ]
  },
  {
   "cell_type": "code",
   "execution_count": null,
   "id": "47eae575",
   "metadata": {},
   "outputs": [],
   "source": [
    "a: list[int] = [1, 2, 6, 3, 7]\n",
    "print(a)"
   ]
  },
  {
   "cell_type": "code",
   "execution_count": null,
   "id": "211b2cc2",
   "metadata": {},
   "outputs": [
    {
     "name": "stdout",
     "output_type": "stream",
     "text": [
      "['Apple', 250, True, {'country': 'Finland', 'city': 'DaNang'}, 2.3]\n"
     ]
    }
   ],
   "source": [
    "# Lists can have items of different data types\n",
    "\n",
    "a = [\"Apple\", 250, True, {\"country\": \"Finland\", \"city\": \"DaNang\"}, 2.3]\n",
    "print(a)"
   ]
  },
  {
   "cell_type": "code",
   "execution_count": null,
   "id": "26ec4c6b",
   "metadata": {},
   "outputs": [],
   "source": [
    "# accessing list items using indexing\n",
    "a: list[str] = [\"apple\", \"orange\"]\n",
    "print(a[0])\n",
    "print(a[1])\n",
    "\n",
    "# negative indexing, means beginning from the end, -1 refers to the last item, -2 refers to the second last item.\n",
    "print(a[-1])\n",
    "print(a[-2])"
   ]
  },
  {
   "cell_type": "code",
   "execution_count": null,
   "id": "776a0b91",
   "metadata": {},
   "outputs": [
    {
     "name": "stdout",
     "output_type": "stream",
     "text": [
      "items1\n",
      "items2\n",
      "['item3', 'item4']\n"
     ]
    }
   ],
   "source": [
    "# unpacking\n",
    "a: list[str] = [\"items1\", \"items2\", \"item3\", \"item4\"]\n",
    "first, second, *rest = a\n",
    "print(first)\n",
    "print(second)\n",
    "print(rest)"
   ]
  },
  {
   "cell_type": "code",
   "execution_count": null,
   "id": "f4a4ea0d",
   "metadata": {},
   "outputs": [
    {
     "name": "stdout",
     "output_type": "stream",
     "text": [
      "['items1', 'items2']\n",
      "['items1', 'items3']\n",
      "['items1', 'items2', 'items3', 'items4']\n",
      "['items2', 'items3']\n",
      "['items4', 'items3', 'items2', 'items1']\n"
     ]
    }
   ],
   "source": [
    "# slicing items [start:end:step]\n",
    "\n",
    "# positive indexing\n",
    "\n",
    "a: list[str] = [\"items1\", \"items2\", \"items3\", \"items4\"]\n",
    "temp1: list[str] = a[0:2]  # index of items1 and items2\n",
    "print(temp1)\n",
    "temp2: list[str] = a[::2]\n",
    "print(temp2)\n",
    "\n",
    "# negative indexing\n",
    "temp3: list[str] = a[-4:]\n",
    "print(temp3)\n",
    "temp4: list[str] = a[-3:-1]\n",
    "print(temp4)\n",
    "temp5: list[str] = a[::-1]\n",
    "print(temp5)"
   ]
  },
  {
   "cell_type": "code",
   "execution_count": null,
   "id": "9f7d50f7",
   "metadata": {},
   "outputs": [
    {
     "name": "stdout",
     "output_type": "stream",
     "text": [
      "['items0', 'items2', 'items3', 'items4']\n"
     ]
    }
   ],
   "source": [
    "# modify array\n",
    "\n",
    "a: list[str] = [\"items1\", \"items2\", \"items3\", \"items4\"]\n",
    "a[0] = \"items0\"\n",
    "print(a)"
   ]
  },
  {
   "cell_type": "code",
   "execution_count": null,
   "id": "5b9bfedb",
   "metadata": {},
   "outputs": [
    {
     "name": "stdout",
     "output_type": "stream",
     "text": [
      "True\n",
      "True\n"
     ]
    }
   ],
   "source": [
    "# check items in a list\n",
    "a: list[str] = [\"items1\", \"items2\", \"items3\", \"items4\"]\n",
    "\n",
    "# traditional way\n",
    "for element in a:\n",
    "    if element == \"items1\":\n",
    "        print(\"True\")\n",
    "\n",
    "# additional operator\n",
    "does_exist: bool = \"items1\" in a\n",
    "print(does_exist)"
   ]
  },
  {
   "cell_type": "code",
   "execution_count": null,
   "id": "d80a69e6",
   "metadata": {},
   "outputs": [
    {
     "name": "stdout",
     "output_type": "stream",
     "text": [
      "['items1', 'items2', 'items3', 'items4', 'okay']\n"
     ]
    }
   ],
   "source": [
    "# add items to a list\n",
    "a: list[str] = [\"items1\", \"items2\", \"items3\", \"items4\"]\n",
    "adding: str = input()\n",
    "a.append(adding)\n",
    "print(a)"
   ]
  },
  {
   "cell_type": "code",
   "execution_count": null,
   "id": "aea6c332",
   "metadata": {},
   "outputs": [
    {
     "name": "stdout",
     "output_type": "stream",
     "text": [
      "['items1', 'items2', 'items3', 'items5', 'items4']\n"
     ]
    }
   ],
   "source": [
    "# insert items into a list\n",
    "a: list[str] = [\"items1\", \"items2\", \"items3\", \"items4\"]\n",
    "inserting: str = \"items5\"\n",
    "a.insert(3, inserting)  # insert right after the specified index\n",
    "print(a)"
   ]
  },
  {
   "cell_type": "code",
   "execution_count": null,
   "id": "d0299a14",
   "metadata": {},
   "outputs": [
    {
     "name": "stdout",
     "output_type": "stream",
     "text": [
      "['items1', 'items3', 'items4', 'items5', 'items6', 'items7', 'items8']\n",
      "['items1', 'items3', 'items4', 'items5', 'items6', 'items7']\n",
      "['items3', 'items4', 'items5', 'items6', 'items7']\n",
      "['items3', 'items4', 'items5', 'items7']\n",
      "['items5', 'items7']\n"
     ]
    },
    {
     "ename": "NameError",
     "evalue": "name 'a' is not defined",
     "output_type": "error",
     "traceback": [
      "\u001b[0;31m---------------------------------------------------------------------------\u001b[0m",
      "\u001b[0;31mNameError\u001b[0m                                 Traceback (most recent call last)",
      "Cell \u001b[0;32mIn[25], line 19\u001b[0m\n\u001b[1;32m     17\u001b[0m \u001b[38;5;28mprint\u001b[39m(a)\n\u001b[1;32m     18\u001b[0m \u001b[38;5;28;01mdel\u001b[39;00m a\n\u001b[0;32m---> 19\u001b[0m \u001b[38;5;28mprint\u001b[39m(a)\n",
      "\u001b[0;31mNameError\u001b[0m: name 'a' is not defined"
     ]
    }
   ],
   "source": [
    "# remove a specified item\n",
    "a: list[str] = [\n",
    "    \"items1\",\n",
    "    \"items2\",\n",
    "    \"items3\",\n",
    "    \"items4\",\n",
    "    \"items5\",\n",
    "    \"items6\",\n",
    "    \"items7\",\n",
    "    \"items8\",\n",
    "]\n",
    "removing: str = \"items2\"\n",
    "a.remove(removing)\n",
    "print(a)\n",
    "\n",
    "# remove items using pop\n",
    "a.pop()  # last item\n",
    "print(a)\n",
    "a.pop(0)  # remove at index 0\n",
    "print(a)\n",
    "\n",
    "# remove items using del (within index or index range, or delete completely)\n",
    "del a[3]\n",
    "print(a)\n",
    "del a[0:2]\n",
    "print(a)\n",
    "del a  # .clear()\n",
    "print(a)  # NameError because of removing completely"
   ]
  },
  {
   "cell_type": "code",
   "execution_count": null,
   "id": "c80463cf",
   "metadata": {},
   "outputs": [
    {
     "name": "stdout",
     "output_type": "stream",
     "text": [
      "['items1', 'items2', 'items3', 'items4']\n",
      "['items1', 'items2', 'items3', 'items4']\n"
     ]
    }
   ],
   "source": [
    "# copy a list\n",
    "a: list[str] = [\"items1\", \"items2\", \"items3\", \"items4\"]\n",
    "b: list[str] = a.copy()\n",
    "print(a)\n",
    "print(b)"
   ]
  },
  {
   "cell_type": "code",
   "execution_count": null,
   "id": "52964db7",
   "metadata": {},
   "outputs": [
    {
     "name": "stdout",
     "output_type": "stream",
     "text": [
      "[1, 2, 3, 4, 5, 6, 7, 8, 9, 10]\n",
      "[1, 2, 3, 4, 5, 6, 7, 8, 9, 10, 1, 2, 3, 4, 5]\n"
     ]
    }
   ],
   "source": [
    "# join list\n",
    "# using plus operator (+)\n",
    "\n",
    "a: list[int] = list([1, 2, 3, 4, 5])\n",
    "b: list[int] = list([6, 7, 8, 9, 10])\n",
    "c: list[int] = a + b\n",
    "print(c)\n",
    "\n",
    "# extend()\n",
    "c.extend(a)\n",
    "print(c)"
   ]
  },
  {
   "cell_type": "code",
   "execution_count": null,
   "id": "06d28855",
   "metadata": {},
   "outputs": [
    {
     "name": "stdout",
     "output_type": "stream",
     "text": [
      "2\n",
      "2\n"
     ]
    }
   ],
   "source": [
    "# counting items\n",
    "a: list[str] = [\"items1\", \"items2\", \"items3\", \"items4\", \"items1\"]\n",
    "\n",
    "# traditional way\n",
    "count: int = 0\n",
    "for element in a:\n",
    "    if element == \"items1\":\n",
    "        count += 1\n",
    "print(count)\n",
    "\n",
    "# count()\n",
    "print(a.count(\"items1\"))"
   ]
  },
  {
   "cell_type": "code",
   "execution_count": null,
   "id": "39fd911b",
   "metadata": {},
   "outputs": [
    {
     "name": "stdout",
     "output_type": "stream",
     "text": [
      "0\n",
      "0\n"
     ]
    }
   ],
   "source": [
    "# finding items\n",
    "a: list[str] = [\"items1\", \"items2\", \"items3\", \"items4\"]\n",
    "\n",
    "# traditional way\n",
    "does_found: int = 0\n",
    "for i in range(0, len(a)):\n",
    "    if a[i] == \"items1\":\n",
    "        does_found: int = i\n",
    "print(does_found)\n",
    "\n",
    "# index()\n",
    "print(a.index(\"items1\"))  # return the index"
   ]
  },
  {
   "cell_type": "code",
   "execution_count": null,
   "id": "36930f70",
   "metadata": {},
   "outputs": [
    {
     "name": "stdout",
     "output_type": "stream",
     "text": [
      "['items4', 'items3', 'items2', 'items1']\n"
     ]
    }
   ],
   "source": [
    "# reverse()\n",
    "a: list[str] = [\"items1\", \"items2\", \"items3\", \"items4\"]\n",
    "a.reverse()\n",
    "print(a)"
   ]
  },
  {
   "cell_type": "code",
   "execution_count": null,
   "id": "b6978343",
   "metadata": {},
   "outputs": [
    {
     "name": "stdout",
     "output_type": "stream",
     "text": [
      "['items1', 'items2', 'items4', 'items6']\n",
      "[1, 10, 5, 62, 11]\n",
      "[1, 5, 10, 11, 62]\n"
     ]
    }
   ],
   "source": [
    "# sort(): sort and modify the original array\n",
    "a: list[str] = [\"items6\", \"items2\", \"items1\", \"items4\"]\n",
    "a.sort()\n",
    "print(a)\n",
    "\n",
    "# sorted(): return the ordered list without modify the original list\n",
    "\n",
    "b: list[int] = [1, 10, 5, 62, 11]\n",
    "c: list[int] = sorted(b)\n",
    "print(b)\n",
    "print(c)"
   ]
  },
  {
   "cell_type": "markdown",
   "id": "8e4c5b78",
   "metadata": {},
   "source": [
    "## Tuple\n",
    "\n",
    "- Tuple is ordered list, immutable container, every elements have specified position, usually use as a \"small record\", and faster than traditional list.\n",
    "\n",
    "**Application:**\n",
    "\n",
    "- Safer, faster and use less memory than traditional list.\n",
    "- Use for key in dict\n",
    "- Return many values from function\n",
    "- Make data structures less heavier, less overhead\n"
   ]
  },
  {
   "cell_type": "code",
   "execution_count": null,
   "id": "d9bb82f4",
   "metadata": {},
   "outputs": [
    {
     "name": "stdout",
     "output_type": "stream",
     "text": [
      "()\n",
      "()\n",
      "('items1, items2', 'items3')\n",
      "('apple', 'orange', 'mango')\n",
      "('l', 'e', 'm', 'o', 'n')\n"
     ]
    }
   ],
   "source": [
    "# Create empty tuple\n",
    "empty_tuple1: tuple[()] = ()\n",
    "print(empty_tuple1)\n",
    "\n",
    "empty_tuple2: tuple[()] = tuple()\n",
    "print(empty_tuple2)\n",
    "\n",
    "# with values\n",
    "a = (\"items1, items2\", \"items3\")\n",
    "\n",
    "b = tuple([\"apple\", \"orange\", \"mango\"])\n",
    "\n",
    "c = tuple(\"lemon\")\n",
    "\n",
    "print(a)\n",
    "print(b)\n",
    "print(c)"
   ]
  },
  {
   "cell_type": "code",
   "execution_count": null,
   "id": "8cd09e89",
   "metadata": {},
   "outputs": [
    {
     "name": "stdout",
     "output_type": "stream",
     "text": [
      "3\n"
     ]
    }
   ],
   "source": [
    "# length of tuple\n",
    "tpl = (\"item1\", \"item2\", \"item3\")\n",
    "print(len(tpl))"
   ]
  },
  {
   "cell_type": "code",
   "execution_count": null,
   "id": "7f9a617a",
   "metadata": {},
   "outputs": [],
   "source": [
    "# accessing tuple items with positive and negative indexing similar to the list\n",
    "\n",
    "# Positive\n",
    "tpl = (\"item1\", \"item2\", \"item3\")\n",
    "first_item = tpl[0]\n",
    "second_item = tpl[1]\n",
    "\n",
    "# Negative\n",
    "tpl = (\"item1\", \"item2\", \"item3\", \"item4\")\n",
    "first_item = tpl[-4]\n",
    "second_item = tpl[-3]"
   ]
  },
  {
   "cell_type": "code",
   "execution_count": null,
   "id": "ab11bf50",
   "metadata": {},
   "outputs": [],
   "source": [
    "# Slicing tuples\n",
    "# also similar to list\n",
    "\n",
    "# Syntax\n",
    "tpl = (\"item1\", \"item2\", \"item3\", \"item4\")\n",
    "all_items = tpl[0:4]  # all items\n",
    "all_items = tpl[0:]  # all items\n",
    "middle_two_items = tpl[1:3]  # does not include item at index 3\n",
    "\n",
    "# Syntax\n",
    "tpl = (\"item1\", \"item2\", \"item3\", \"item4\")\n",
    "all_items = tpl[-4:]  # all items\n",
    "middle_two_items = tpl[-3:-1]  # does not include item at index 3 (-1)"
   ]
  },
  {
   "cell_type": "code",
   "execution_count": null,
   "id": "5b0d4537",
   "metadata": {},
   "outputs": [
    {
     "name": "stdout",
     "output_type": "stream",
     "text": [
      "['apple', 'orange', 'mango', 'lemon']\n",
      "('apple', 'orange', 'mango', 'lemon')\n"
     ]
    }
   ],
   "source": [
    "# change tuples to list and list to tuple\n",
    "fruits = (\"banana\", \"orange\", \"mango\", \"lemon\")\n",
    "fruits = list(fruits)\n",
    "fruits[0] = \"apple\"\n",
    "print(fruits)  # ['apple', 'orange', 'mango', 'lemon']\n",
    "fruits = tuple(fruits)\n",
    "print(fruits)  # ('apple', 'orange', 'mango', 'lemon')"
   ]
  },
  {
   "cell_type": "code",
   "execution_count": null,
   "id": "d2dc907c",
   "metadata": {},
   "outputs": [],
   "source": [
    "# Checking an item is also similar to tuple\n",
    "# Syntax\n",
    "tpl = (\"item1\", \"item2\", \"item3\", \"item4\")\n",
    "\"item2\" in tpl  # True"
   ]
  },
  {
   "cell_type": "code",
   "execution_count": null,
   "id": "ea2a2603",
   "metadata": {},
   "outputs": [],
   "source": [
    "# deleting tuples\n",
    "# it is not possible to remove a single item in tuple\n",
    "# only be possible to delete tuple itself\n",
    "\n",
    "# syntax\n",
    "tpl1 = (\"item1\", \"item2\", \"item3\")\n",
    "del tpl1"
   ]
  },
  {
   "cell_type": "markdown",
   "id": "571954af",
   "metadata": {},
   "source": [
    "## Set\n"
   ]
  },
  {
   "cell_type": "code",
   "execution_count": null,
   "id": "01f4e690",
   "metadata": {},
   "outputs": [
    {
     "name": "stdout",
     "output_type": "stream",
     "text": [
      "{'item2', 'item1'}\n"
     ]
    }
   ],
   "source": [
    "# Create an empty set\n",
    "store1 = set()\n",
    "\n",
    "# Create a set with value\n",
    "store2 = {\"item1\", \"item2\"}\n",
    "print(store2)"
   ]
  },
  {
   "cell_type": "code",
   "execution_count": null,
   "id": "8c3737ff",
   "metadata": {},
   "outputs": [
    {
     "name": "stdout",
     "output_type": "stream",
     "text": [
      "2\n"
     ]
    }
   ],
   "source": [
    "store2: set[str] = {\"item1\", \"item2\"}\n",
    "print(len(store2))"
   ]
  },
  {
   "cell_type": "code",
   "execution_count": null,
   "id": "b7f43b32",
   "metadata": {},
   "outputs": [
    {
     "name": "stdout",
     "output_type": "stream",
     "text": [
      "item2\n",
      "item1\n"
     ]
    }
   ],
   "source": [
    "# use loop to access items\n",
    "store: set[str] = {\"item1\", \"item2\"}\n",
    "for element in store:\n",
    "    print(element)"
   ]
  },
  {
   "cell_type": "code",
   "execution_count": null,
   "id": "59f65a01",
   "metadata": {},
   "outputs": [
    {
     "name": "stdout",
     "output_type": "stream",
     "text": [
      "{'item2', 'item1', 'okay'}\n"
     ]
    }
   ],
   "source": [
    "# adding item with add()\n",
    "store: set[str] = {\"item1\", \"item2\"}\n",
    "store.add(input())\n",
    "print(store)"
   ]
  },
  {
   "cell_type": "code",
   "execution_count": null,
   "id": "fbd9eeb8",
   "metadata": {},
   "outputs": [
    {
     "name": "stdout",
     "output_type": "stream",
     "text": [
      "{'item4', 'item2', 'item3', 'item5', 'item1'}\n"
     ]
    }
   ],
   "source": [
    "# add multiple items with update(), update() takes a list argument\n",
    "\n",
    "store: set[str] = {\"item1\", \"item2\"}\n",
    "a: list[str] = [\"item3\", \"item4\", \"item5\"]\n",
    "store.update(a)\n",
    "print(store)"
   ]
  },
  {
   "cell_type": "code",
   "execution_count": 1,
   "id": "c21e5570",
   "metadata": {},
   "outputs": [
    {
     "name": "stdout",
     "output_type": "stream",
     "text": [
      "{'banana', 'mango', 'lemon'}\n",
      "{'banana', 'lemon'}\n"
     ]
    }
   ],
   "source": [
    "fruits = {\"banana\", \"orange\", \"mango\", \"lemon\"}\n",
    "fruits.pop()  # removes a random item from the set\n",
    "print(fruits)\n",
    "fruits.discard(\"mango\")\n",
    "print(fruits)"
   ]
  },
  {
   "cell_type": "code",
   "execution_count": null,
   "id": "a2968a5d",
   "metadata": {},
   "outputs": [
    {
     "name": "stdout",
     "output_type": "stream",
     "text": [
      "set()\n"
     ]
    }
   ],
   "source": [
    "# clear set with clear()\n",
    "fruits = {\"banana\", \"orange\", \"mango\", \"lemon\"}\n",
    "fruits.clear()\n",
    "print(fruits)"
   ]
  },
  {
   "cell_type": "code",
   "execution_count": null,
   "id": "53451b93",
   "metadata": {},
   "outputs": [],
   "source": [
    "# delete set\n",
    "st = {\"item1\", \"item2\", \"item3\", \"item4\"}\n",
    "del st"
   ]
  },
  {
   "cell_type": "code",
   "execution_count": null,
   "id": "4e986433",
   "metadata": {},
   "outputs": [
    {
     "name": "stdout",
     "output_type": "stream",
     "text": [
      "{'item4', 'item2', 'item1', 'item3'}\n",
      "['item4', 'item2', 'item1', 'item3']\n"
     ]
    }
   ],
   "source": [
    "# Convert List to Set and Set to List\n",
    "# syntax\n",
    "lst = [\"item1\", \"item2\", \"item3\", \"item4\", \"item1\"]\n",
    "st = set(\n",
    "    lst\n",
    ")  # {'item2', 'item4', 'item1', 'item3'} - the order is random, because sets in general are unordered\n",
    "lst2: list[str] = list(st)\n",
    "print(st)\n",
    "print(lst2)"
   ]
  },
  {
   "cell_type": "code",
   "execution_count": 5,
   "id": "92e4500f",
   "metadata": {},
   "outputs": [
    {
     "name": "stdout",
     "output_type": "stream",
     "text": [
      "{'item3', 'item2', 'item6', 'item4', 'item8', 'item1', 'item7', 'item5'}\n",
      "{'item3', 'item2', 'item6', 'item4', 'item8', 'item1', 'item7', 'item5'}\n"
     ]
    }
   ],
   "source": [
    "# joining sets using union() or update()\n",
    "\n",
    "# union()\n",
    "st1 = {\"item1\", \"item2\", \"item3\", \"item4\"}\n",
    "st2 = {\"item5\", \"item6\", \"item7\", \"item8\"}\n",
    "st3 = st1.union(st2)\n",
    "print(st3)\n",
    "print(st1 | st2)"
   ]
  },
  {
   "cell_type": "code",
   "execution_count": null,
   "id": "63355010",
   "metadata": {},
   "outputs": [],
   "source": [
    "# update()\n",
    "st1 = {\"item1\", \"item2\", \"item3\", \"item4\"}\n",
    "st2 = {\"item5\", \"item6\", \"item7\", \"item8\"}\n",
    "st1.update(st2)  # st2 contents are added to st1"
   ]
  },
  {
   "cell_type": "code",
   "execution_count": null,
   "id": "13d53ede",
   "metadata": {},
   "outputs": [
    {
     "name": "stdout",
     "output_type": "stream",
     "text": [
      "{'item3', 'item2'}\n",
      "{'item3', 'item2'}\n"
     ]
    }
   ],
   "source": [
    "# finding intersection\n",
    "# syntax\n",
    "st1 = {\"item1\", \"item2\", \"item3\", \"item4\"}\n",
    "st2 = {\"item3\", \"item2\"}\n",
    "print(st1.intersection(st2))  # {'item3', 'item2'}\n",
    "print(st1 & st2)"
   ]
  },
  {
   "cell_type": "code",
   "execution_count": null,
   "id": "6236b248",
   "metadata": {},
   "outputs": [
    {
     "name": "stdout",
     "output_type": "stream",
     "text": [
      "True\n",
      "True\n"
     ]
    }
   ],
   "source": [
    "# a set can be a subset or superset of other sets\n",
    "# syntax\n",
    "st1 = {\"item1\", \"item2\", \"item3\", \"item4\"}\n",
    "st2 = {\"item2\", \"item3\"}\n",
    "print(st2.issubset(st1))  # True\n",
    "print(st1.issuperset(st2))  # True"
   ]
  },
  {
   "cell_type": "code",
   "execution_count": null,
   "id": "d355175c",
   "metadata": {},
   "outputs": [
    {
     "name": "stdout",
     "output_type": "stream",
     "text": [
      "set()\n",
      "{'item1', 'item4'}\n",
      "{'item1', 'item4'}\n"
     ]
    }
   ],
   "source": [
    "# find difference\n",
    "# syntax\n",
    "st1 = {\"item1\", \"item2\", \"item3\", \"item4\"}\n",
    "st2 = {\"item2\", \"item3\"}\n",
    "print(st2.difference(st1))  # set()\n",
    "print(st1.difference(st2))  # {'item1', 'item4'} => st1\\st2\n",
    "print(st1 - st2)"
   ]
  },
  {
   "cell_type": "code",
   "execution_count": 7,
   "id": "65a9b11a",
   "metadata": {},
   "outputs": [
    {
     "name": "stdout",
     "output_type": "stream",
     "text": [
      "{'item1', 'item4'}\n",
      "{'item1', 'item4'}\n"
     ]
    }
   ],
   "source": [
    "# find symmetric_difference\n",
    "# syntax\n",
    "st1 = {\"item1\", \"item2\", \"item3\", \"item4\"}\n",
    "st2 = {\"item2\", \"item3\"}\n",
    "# it means (A\\B)∪(B\\A)\n",
    "print(st2.symmetric_difference(st1))  # {'item1', 'item4'}\n",
    "print(st2 ^ st1)"
   ]
  },
  {
   "cell_type": "code",
   "execution_count": null,
   "id": "368889f6",
   "metadata": {},
   "outputs": [],
   "source": [
    "# two sets do not have a common item or items we call the disjoin set\n",
    "# syntax\n",
    "st1 = {\"item1\", \"item2\", \"item3\", \"item4\"}\n",
    "st2 = {\"item2\", \"item3\"}\n",
    "print(st2.isdisjoint(st1))  # False"
   ]
  },
  {
   "cell_type": "markdown",
   "id": "b52d1435",
   "metadata": {},
   "source": [
    "## Dictionary (HashMap)\n",
    "\n",
    "Application:\n",
    "\n",
    "- Store the configuration\n",
    "- Statistics the counter\n",
    "- Replace switch-case\n",
    "- Store JSON data\n"
   ]
  },
  {
   "cell_type": "code",
   "execution_count": null,
   "id": "a65f49b6",
   "metadata": {},
   "outputs": [],
   "source": [
    "# syntax\n",
    "empty_dict = {}\n",
    "# Dictionary with data values\n",
    "dct = {\"key1\": \"value1\", \"key2\": \"value2\", \"key3\": \"value3\", \"key4\": \"value4\"}"
   ]
  },
  {
   "cell_type": "code",
   "execution_count": null,
   "id": "fcad36aa",
   "metadata": {},
   "outputs": [],
   "source": [
    "# syntax\n",
    "dct = {\"key1\": \"value1\", \"key2\": \"value2\", \"key3\": \"value3\", \"key4\": \"value4\"}\n",
    "print(len(dct))  # 4"
   ]
  },
  {
   "cell_type": "code",
   "execution_count": null,
   "id": "e9f394d4",
   "metadata": {},
   "outputs": [
    {
     "name": "stdout",
     "output_type": "stream",
     "text": [
      "value1\n",
      "value4\n",
      "None\n"
     ]
    }
   ],
   "source": [
    "# syntax\n",
    "dct = {\"key1\": \"value1\", \"key2\": \"value2\", \"key3\": \"value3\", \"key4\": \"value4\"}\n",
    "print(dct[\"key1\"])  # value1\n",
    "print(dct[\"key4\"])  # value4\n",
    "\n",
    "# we can use the get() to check if a key exist or not\n",
    "print(dct.get(\"key5\"))  # None"
   ]
  },
  {
   "cell_type": "code",
   "execution_count": null,
   "id": "b85b2d52",
   "metadata": {},
   "outputs": [],
   "source": [
    "# add new key and value pairs to a dictionary\n",
    "# syntax\n",
    "dct = {\"key1\": \"value1\", \"key2\": \"value2\", \"key3\": \"value3\", \"key4\": \"value4\"}\n",
    "dct[\"key5\"] = \"value5\""
   ]
  },
  {
   "cell_type": "code",
   "execution_count": null,
   "id": "4acd2c75",
   "metadata": {},
   "outputs": [],
   "source": [
    "# modify items in a dictionary\n",
    "# syntax\n",
    "dct = {\"key1\": \"value1\", \"key2\": \"value2\", \"key3\": \"value3\", \"key4\": \"value4\"}\n",
    "dct[\"key1\"] = \"value-one\""
   ]
  },
  {
   "cell_type": "code",
   "execution_count": null,
   "id": "258a3dcf",
   "metadata": {},
   "outputs": [],
   "source": [
    "# Check keys in dictionary with \"in\" operator\n",
    "# syntax\n",
    "dct = {\"key1\": \"value1\", \"key2\": \"value2\", \"key3\": \"value3\", \"key4\": \"value4\"}\n",
    "print(\"key2\" in dct)  # True\n",
    "print(\"key5\" in dct)  # False"
   ]
  },
  {
   "cell_type": "code",
   "execution_count": null,
   "id": "5c892698",
   "metadata": {},
   "outputs": [],
   "source": [
    "# pop(key): removes the item with the specified key name:\n",
    "# popitem(): removes the last item\n",
    "# del: removes an item with specified key name\n",
    "\n",
    "# syntax\n",
    "dct = {\"key1\": \"value1\", \"key2\": \"value2\", \"key3\": \"value3\", \"key4\": \"value4\"}\n",
    "dct.pop(\"key1\")  # removes key1 item\n",
    "dct = {\"key1\": \"value1\", \"key2\": \"value2\", \"key3\": \"value3\", \"key4\": \"value4\"}\n",
    "dct.popitem()  # removes the last item\n",
    "del dct[\"key2\"]  # removes key2 item"
   ]
  },
  {
   "cell_type": "code",
   "execution_count": null,
   "id": "62768993",
   "metadata": {},
   "outputs": [],
   "source": [
    "# Changing dict to a list of tuples with items()\n",
    "\n",
    "# syntax\n",
    "dct = {\"key1\": \"value1\", \"key2\": \"value2\", \"key3\": \"value3\", \"key4\": \"value4\"}\n",
    "print(\n",
    "    dct.items()\n",
    ")  # dict_items([('key1', 'value1'), ('key2', 'value2'), ('key3', 'value3'), ('key4', 'value4')])"
   ]
  },
  {
   "cell_type": "code",
   "execution_count": null,
   "id": "02bad904",
   "metadata": {},
   "outputs": [],
   "source": [
    "# Clear dict\n",
    "# syntax\n",
    "dct = {\"key1\": \"value1\", \"key2\": \"value2\", \"key3\": \"value3\", \"key4\": \"value4\"}\n",
    "print(dct.clear())  # None"
   ]
  },
  {
   "cell_type": "code",
   "execution_count": null,
   "id": "7f94c6fc",
   "metadata": {},
   "outputs": [],
   "source": [
    "# delete dict\n",
    "\n",
    "# syntax\n",
    "dct = {\"key1\": \"value1\", \"key2\": \"value2\", \"key3\": \"value3\", \"key4\": \"value4\"}\n",
    "del dct"
   ]
  },
  {
   "cell_type": "code",
   "execution_count": null,
   "id": "53e9ce41",
   "metadata": {},
   "outputs": [],
   "source": [
    "# Copy a dict\n",
    "\n",
    "# syntax\n",
    "dct = {\"key1\": \"value1\", \"key2\": \"value2\", \"key3\": \"value3\", \"key4\": \"value4\"}\n",
    "dct_copy = (\n",
    "    dct.copy()\n",
    ")  # {'key1':'value1', 'key2':'value2', 'key3':'value3', 'key4':'value4'}"
   ]
  },
  {
   "cell_type": "code",
   "execution_count": null,
   "id": "2ebd46c9",
   "metadata": {},
   "outputs": [],
   "source": [
    "# keys(): returns all the keys of a dict as a list\n",
    "\n",
    "# syntax\n",
    "dct = {\"key1\": \"value1\", \"key2\": \"value2\", \"key3\": \"value3\", \"key4\": \"value4\"}\n",
    "keys = dct.keys()\n",
    "print(keys)  # dict_keys(['key1', 'key2', 'key3', 'key4'])"
   ]
  },
  {
   "cell_type": "code",
   "execution_count": 10,
   "id": "1609f22e",
   "metadata": {},
   "outputs": [
    {
     "name": "stdout",
     "output_type": "stream",
     "text": [
      "dict_values(['value1', 'value2', 'value3', 'value4'])\n"
     ]
    }
   ],
   "source": [
    "# values(): returns all the values of a dict as a list\n",
    "\n",
    "# syntax\n",
    "\n",
    "dct: dict[str, str] = {\n",
    "    \"key1\": \"value1\",\n",
    "    \"key2\": \"value2\",\n",
    "    \"key3\": \"value3\",\n",
    "    \"key4\": \"value4\",\n",
    "}\n",
    "values = dct.values()\n",
    "print(values)  # dict_values(['value1', 'value2', 'value3', 'value4'])"
   ]
  },
  {
   "cell_type": "markdown",
   "id": "b71363d3",
   "metadata": {},
   "source": [
    "## Match case\n",
    "\n",
    "- Replace switch-case, but it is more stronger\n"
   ]
  },
  {
   "cell_type": "code",
   "execution_count": null,
   "id": "d24a0be6",
   "metadata": {},
   "outputs": [
    {
     "name": "stdout",
     "output_type": "stream",
     "text": [
      "YES\n"
     ]
    }
   ],
   "source": [
    "point: tuple[int] = (0, 0)\n",
    "match point:\n",
    "    case (0, 0):\n",
    "        print(\"YES\")\n",
    "    case (1, 0):\n",
    "        print(\"OKAY\")"
   ]
  }
 ],
 "metadata": {
  "kernelspec": {
   "display_name": "base",
   "language": "python",
   "name": "python3"
  },
  "language_info": {
   "codemirror_mode": {
    "name": "ipython",
    "version": 3
   },
   "file_extension": ".py",
   "mimetype": "text/x-python",
   "name": "python",
   "nbconvert_exporter": "python",
   "pygments_lexer": "ipython3",
   "version": "3.13.5"
  }
 },
 "nbformat": 4,
 "nbformat_minor": 5
}
