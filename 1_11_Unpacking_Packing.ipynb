{
 "cells": [
  {
   "cell_type": "markdown",
   "id": "bda915ff",
   "metadata": {},
   "source": [
    "## Unpacking and packing\n",
    "\n",
    "We use two operators:\n",
    "\n",
    "- **\"`*`\"** for tuples\n",
    "- **\"`**`\"** for dictionaries "
   ]
  },
  {
   "cell_type": "markdown",
   "id": "ddf6a7f7",
   "metadata": {},
   "source": [
    "## Unpacking\n"
   ]
  },
  {
   "cell_type": "code",
   "execution_count": 1,
   "id": "6b7e08fd",
   "metadata": {},
   "outputs": [
    {
     "name": "stdout",
     "output_type": "stream",
     "text": [
      "15\n"
     ]
    }
   ],
   "source": [
    "def sum_of_five_num(a: int, b: int, c: int, d: int, e: int) -> int:\n",
    "    return a + b + c + d + e\n",
    "\n",
    "lst: list[int] = [1, 2, 3, 4, 5] \n",
    "print(sum_of_five_num(*lst)) "
   ]
  },
  {
   "cell_type": "code",
   "execution_count": 2,
   "id": "8ec12698",
   "metadata": {},
   "outputs": [
    {
     "name": "stdout",
     "output_type": "stream",
     "text": [
      "Finland\n",
      "Sweden\n",
      "Norway\n",
      "['Vietnam', 'Japanese']\n"
     ]
    }
   ],
   "source": [
    "countries: list[str] = [\n",
    "    \"Finland\", \n",
    "    \"Sweden\", \n",
    "    \"Norway\",\n",
    "    \"Vietnam\",\n",
    "    \"Japanese\"\n",
    "]\n",
    "fin, sw, nor, *rest = countries\n",
    "print(fin)\n",
    "print(sw)\n",
    "print(nor)\n",
    "print(rest)"
   ]
  },
  {
   "cell_type": "code",
   "execution_count": 3,
   "id": "5cc440dd",
   "metadata": {},
   "outputs": [
    {
     "name": "stdout",
     "output_type": "stream",
     "text": [
      "1 [2, 3, 4, 5, 6] 7\n"
     ]
    }
   ],
   "source": [
    "numbers: list[int] = [1, 2, 3, 4, 5, 6, 7]\n",
    "one, *middle, last = numbers\n",
    "print(one, middle, last) "
   ]
  },
  {
   "cell_type": "code",
   "execution_count": 6,
   "id": "33e32535",
   "metadata": {},
   "outputs": [
    {
     "name": "stdout",
     "output_type": "stream",
     "text": [
      "Apple lives in Finland, Helsinki. He is 250 years-old.\n"
     ]
    }
   ],
   "source": [
    "# Unpacking dictionaries\n",
    "from typing import TypedDict\n",
    "\n",
    "class PersonDict(TypedDict):\n",
    "    name: str\n",
    "    country: str\n",
    "    city: str\n",
    "    age: int\n",
    "\n",
    "def unpacking_person_info(name: str, country: str, city: str, age: int) -> str:\n",
    "    return f\"{name} lives in {country}, {city}. He is {age} years-old.\"\n",
    "dct: PersonDict = {\n",
    "    \"name\" : \"Apple\", \n",
    "    \"country\" : \"Finland\",\n",
    "    \"city\" : \"Helsinki\",\n",
    "    \"age\" : 250 \n",
    "}\n",
    "print(unpacking_person_info(**dct))"
   ]
  },
  {
   "cell_type": "markdown",
   "id": "6c8cf92b",
   "metadata": {},
   "source": [
    "## Functions with Flexible Parameters\n",
    "\n",
    "Python uses special syntax to allow functions to accept a variable number of arguments (Revision):\n",
    "\n",
    "  * **$\\text{*args}$** → Receives multiple **positional arguments** as a **tuple**.\n",
    "  * **$\\text{**kwargs}$** → Receives multiple **keyword arguments** as a **dictionary** ($\\text{dict}$).\n",
    "\n",
    "### Example\n",
    "\n",
    "```python\n",
    "def info(name, *args, **kwargs):\n",
    "    print(\"Name:\", name)\n",
    "    print(\"Args:\", args)\n",
    "    print(\"Kwargs:\", kwargs)\n",
    "\n",
    "info(\"Nguyen\", 21, \"Da Nang\", hobby=\"AI\", lang=\"Python\")\n",
    "# Output:\n",
    "# Name: Nguyen\n",
    "# Args: (21, 'Da Nang')\n",
    "# Kwargs: {'hobby': 'AI', 'lang': 'Python'}\n",
    "```\n",
    "\n",
    "-----\n",
    "\n",
    "### When to Use \\*args and \\*\\*kwargs\n",
    "\n",
    "These flexible parameters are essential in two main scenarios:\n",
    "\n",
    "#### 1\\. Forwarding Parameters Between Functions (*Python Decorators* in <a href=\"1_7_Higher_Order_Func.ipynb\">1_7_Higher_Order_Func</a>)\n",
    "\n",
    "This is used when you want to **pass all parameters** from one function to another (often a nested function or a decorator) without explicitly listing them. This keeps the code flexible and reusable, especially in **decorators**.\n",
    "\n",
    "```python\n",
    "import time\n",
    "\n",
    "def time_logger(func):\n",
    "    def wrapper(*args, **kwargs):\n",
    "        start = time.time()\n",
    "        print(f\"Starting execution: {func.__name__}\")\n",
    "        \n",
    "        # Call the original function with all parameters\n",
    "        result = func(*args, **kwargs) \n",
    "        \n",
    "        end = time.time()\n",
    "        print(f\"Finished {func.__name__} in {end - start:.4f} seconds\\n\")\n",
    "        return result\n",
    "    return wrapper\n",
    "\n",
    "@time_logger\n",
    "def compute_sum(n):\n",
    "    return sum(range(n))\n",
    "\n",
    "@time_logger\n",
    "def greet(name, message=\"Hello\"):\n",
    "    print(f\"{message}, {name}!\")\n",
    "\n",
    "# --- Test ---\n",
    "compute_sum(1_000_000)\n",
    "# Starting execution: compute_sum\n",
    "# Finished compute_sum in 1.2xxx seconds\n",
    "\n",
    "greet(\"Nguyen\", message=\"Chao ban\")\n",
    "# Starting execution: greet\n",
    "# Chao ban, Nguyen!\n",
    "# Finished greet in 0.0xxx seconds\n",
    "\n",
    "# Practical Applications: logging, time measurement, permission checks, tracing in AI/ML pipelines.\n",
    "```\n",
    "\n",
    "-----\n",
    "\n",
    "#### 2\\. Maintaining Extensibility in Object-Oriented Programming (OOP)\n",
    "\n",
    "In OOP, **$\\text{**kwargs}$** is frequently used in methods to ensure **forward compatibility and flexibility** when subclasses might introduce new, specific attributes or options. The base class or method can accept all unknown keyword arguments, and the subclass can extract the ones it needs.\n",
    "\n",
    "```python\n",
    "class Classifier:\n",
    "    def __init__(self):\n",
    "        pass\n",
    "\n",
    "    # The base predict method accepts **kwargs for future flexibility\n",
    "    def predict(self, image, **kwargs):\n",
    "        pass\n",
    "\n",
    "class MobileNet(Classifier):\n",
    "    def __init__(self):\n",
    "        super().__init__()\n",
    "\n",
    "    def predict(self, image, **kwargs):\n",
    "        # Subclass extracts its specific parameter, using a default if not provided\n",
    "        threshold_conf = kwargs.get(\"threshold_conf\", 0.6)\n",
    "        # ... model-specific logic\n",
    "        \n",
    "class MyModel(Classifier):\n",
    "    def __init__(self):\n",
    "        super().__init__()\n",
    "\n",
    "    def predict(self, image, **kwargs):\n",
    "        # This subclass handles multiple specific parameters\n",
    "        threshold_dog = kwargs.get(\"threshold_dog\", 0.2)\n",
    "        threshold_cat = kwargs.get(\"threshold_cat\", 0.3)\n",
    "        # ... model-specific logic\n",
    "```"
   ]
  },
  {
   "cell_type": "markdown",
   "id": "e9d12a3a",
   "metadata": {},
   "source": [
    "## Packing\n",
    "\n",
    "- Sometimes we never know how many arguments need to be passed to a python function.\n",
    "- Using the packing method to allow our function to take unlimited number or arbitrary number of arguments."
   ]
  },
  {
   "cell_type": "code",
   "execution_count": null,
   "id": "284fbb93",
   "metadata": {},
   "outputs": [
    {
     "name": "stdout",
     "output_type": "stream",
     "text": [
      "15\n"
     ]
    }
   ],
   "source": [
    "# Packing lists \n",
    "\n",
    "def sum_all(*args) -> int: \n",
    "    s: int = 0 \n",
    "    for i in args: \n",
    "        s += i\n",
    "    return s\n",
    "\n",
    "print(sum_all(1, 2, 3, 4, 5)) "
   ]
  },
  {
   "cell_type": "code",
   "execution_count": 10,
   "id": "862f040b",
   "metadata": {},
   "outputs": [
    {
     "name": "stdout",
     "output_type": "stream",
     "text": [
      "name = okay\n",
      "country = Finland\n",
      "{'name': 'okay', 'country': 'Finland'}\n"
     ]
    }
   ],
   "source": [
    "# Packing dictionaries\n",
    "\n",
    "def packing_person_info(**kwargs):\n",
    "    for key in kwargs.keys():\n",
    "        print(f\"{key} = {kwargs[key]}\")\n",
    "    return kwargs\n",
    "\n",
    "print(packing_person_info(\n",
    "    name=\"okay\",\n",
    "    country=\"Finland\"\n",
    "))"
   ]
  },
  {
   "cell_type": "code",
   "execution_count": 11,
   "id": "7b9d34e2",
   "metadata": {},
   "outputs": [
    {
     "name": "stdout",
     "output_type": "stream",
     "text": [
      "[0, 1, 2, 3, 4, 5, 6, 7]\n"
     ]
    }
   ],
   "source": [
    "# Spreading in python (Like in JS)\n",
    "\n",
    "list_one: list[int] = [1, 2, 3]\n",
    "list_two: list[int] = [4, 5, 6, 7] \n",
    "lst: list[int] = [0, *list_one, *list_two] \n",
    "print(lst) "
   ]
  },
  {
   "cell_type": "code",
   "execution_count": null,
   "id": "030b6232",
   "metadata": {},
   "outputs": [
    {
     "name": "stdout",
     "output_type": "stream",
     "text": [
      "0 20\n",
      "1 30\n",
      "2 40\n"
     ]
    }
   ],
   "source": [
    "# Enumerate (built-in function to get the index of each element in the list) \n",
    "for index, element in enumerate([20, 30, 40]):\n",
    "    print(index, element) "
   ]
  },
  {
   "cell_type": "code",
   "execution_count": 18,
   "id": "297ca5d6",
   "metadata": {},
   "outputs": [
    {
     "name": "stdout",
     "output_type": "stream",
     "text": [
      "[{'odd': 1, 'even': 2}, {'odd': 3, 'even': 4}, {'odd': 5, 'even': 6}, {'odd': 7, 'even': 8}, {'odd': 9, 'even': 10}]\n"
     ]
    }
   ],
   "source": [
    "# Zip (combine lists when looping through them)\n",
    "\n",
    "even: list[int] = [2, 4, 6, 8, 10] \n",
    "odd: list[int] = [1, 3, 5, 7, 9]\n",
    "even_odd: list[int] = [] \n",
    "\n",
    "for e, o in zip(even, odd):\n",
    "    even_odd.append({\n",
    "        \"odd\":o,\n",
    "        \"even\":e\n",
    "})\n",
    "\n",
    "print(even_odd)"
   ]
  }
 ],
 "metadata": {
  "kernelspec": {
   "display_name": "base",
   "language": "python",
   "name": "python3"
  },
  "language_info": {
   "codemirror_mode": {
    "name": "ipython",
    "version": 3
   },
   "file_extension": ".py",
   "mimetype": "text/x-python",
   "name": "python",
   "nbconvert_exporter": "python",
   "pygments_lexer": "ipython3",
   "version": "3.13.5"
  }
 },
 "nbformat": 4,
 "nbformat_minor": 5
}
