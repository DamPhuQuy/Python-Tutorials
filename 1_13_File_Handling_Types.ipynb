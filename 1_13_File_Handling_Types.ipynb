{
 "cells": [
  {
   "cell_type": "markdown",
   "id": "7036e680",
   "metadata": {},
   "source": [
    "# File handling\n",
    "\n",
    "```python\n",
    "open(\"filename\", mode) # mode(r, a, w, x, t, b) could be to read, write, update\n",
    "```\n",
    "\n",
    "- \"r\" - read: Default value. Opens a file for reading, it returns an error if the files does not exist.\n",
    "- \"a\" - append: Opens a file for appending to the end of the file, creates the file if it does not exist.\n",
    "- \"w\" - write: Opens a file for writing and overwriting any existing content, creates the file if it does not exist.\n",
    "- \"t\" - text: Default value. Text mode\n",
    "- \"b\" - binary: Binary mode (e.g. images)\n",
    "\n",
    "```python\n",
    "f = open(\"files/example.txt\") # default is read\n",
    "print(f) # <_io.TextIOWrapper name='./files/reading_file_example.txt' mode='r' encoding='UTF-8'>\n",
    "```\n"
   ]
  },
  {
   "cell_type": "markdown",
   "id": "dc483904",
   "metadata": {},
   "source": [
    "### Reading methods:\n"
   ]
  },
  {
   "cell_type": "markdown",
   "id": "e33c0827",
   "metadata": {},
   "source": [
    "- read(): read the whole text as string. read(number) to limit `the number of characters` we want to read.\n"
   ]
  },
  {
   "cell_type": "code",
   "execution_count": null,
   "id": "19e6d39f",
   "metadata": {},
   "outputs": [
    {
     "name": "stdout",
     "output_type": "stream",
     "text": [
      "<class 'str'> \n",
      "\n",
      "Hello, this is a sample text file for testing purposes.\n",
      "\n",
      "Name: John Doe\n",
      "Age: 28\n",
      "Email: john.doe@example.com\n",
      "\n",
      "Favorite Programming Languages:\n",
      "- Python\n",
      "- Java\n",
      "- C++\n",
      "\n",
      "Quote of the day:\n",
      "\"Code is like humor. When you have to explain it, it’s bad.\" — Cory House\n",
      "\n"
     ]
    }
   ],
   "source": [
    "from io import TextIOWrapper\n",
    "\n",
    "f: TextIOWrapper = open(\"files/example.txt\")\n",
    "text: str = f.read()\n",
    "print(type(text), \"\\n\")\n",
    "print(text)\n",
    "f.close()"
   ]
  },
  {
   "cell_type": "code",
   "execution_count": null,
   "id": "01f876ab",
   "metadata": {},
   "outputs": [
    {
     "name": "stdout",
     "output_type": "stream",
     "text": [
      "Hello, this is a sample text \n"
     ]
    }
   ],
   "source": [
    "# Instead of printing all the text, we will limit the numbers of characters\n",
    "\n",
    "from io import TextIOWrapper\n",
    "\n",
    "f: TextIOWrapper = open(\"files/example.txt\")\n",
    "text: str = f.read(29)\n",
    "print(text)"
   ]
  },
  {
   "cell_type": "markdown",
   "id": "0443451d",
   "metadata": {},
   "source": [
    "- readline(): read only one the first line\n"
   ]
  },
  {
   "cell_type": "code",
   "execution_count": null,
   "id": "e11cd24d",
   "metadata": {},
   "outputs": [
    {
     "name": "stdout",
     "output_type": "stream",
     "text": [
      "Hello, this is a sample text file for testing purposes.\n",
      "\n"
     ]
    }
   ],
   "source": [
    "from io import TextIOWrapper\n",
    "\n",
    "f: TextIOWrapper = open(\"files/example.txt\")\n",
    "text: str = f.readline()\n",
    "print(text)"
   ]
  },
  {
   "cell_type": "markdown",
   "id": "6300fa83",
   "metadata": {},
   "source": [
    "- readlines(): read all the text line by line and returns a list of lines\n"
   ]
  },
  {
   "cell_type": "code",
   "execution_count": null,
   "id": "d487bc27",
   "metadata": {},
   "outputs": [
    {
     "name": "stdout",
     "output_type": "stream",
     "text": [
      "['Hello, this is a sample text file for testing purposes.\\n', '\\n', 'Name: John Doe\\n', 'Age: 28\\n', 'Email: john.doe@example.com\\n', '\\n', 'Favorite Programming Languages:\\n', '- Python\\n', '- Java\\n', '- C++\\n', '\\n', 'Quote of the day:\\n', '\"Code is like humor. When you have to explain it, it’s bad.\" — Cory House\\n']\n"
     ]
    }
   ],
   "source": [
    "from io import TextIOWrapper\n",
    "\n",
    "f: TextIOWrapper = open(\"files/example.txt\")\n",
    "texts: list[str] = f.readlines()\n",
    "print(texts)"
   ]
  },
  {
   "cell_type": "markdown",
   "id": "06fd6aa1",
   "metadata": {},
   "source": [
    "- .read().splitlines(): also get all the lines as a list\n"
   ]
  },
  {
   "cell_type": "code",
   "execution_count": null,
   "id": "3618c4ba",
   "metadata": {},
   "outputs": [
    {
     "name": "stdout",
     "output_type": "stream",
     "text": [
      "['Hello, this is a sample text file for testing purposes.', '', 'Name: John Doe', 'Age: 28', 'Email: john.doe@example.com', '', 'Favorite Programming Languages:', '- Python', '- Java', '- C++', '', 'Quote of the day:', '\"Code is like humor. When you have to explain it, it’s bad.\" — Cory House']\n"
     ]
    }
   ],
   "source": [
    "from io import TextIOWrapper\n",
    "\n",
    "f: TextIOWrapper = open(\"files/example.txt\")\n",
    "texts: list[str] = f.read().splitlines()\n",
    "print(texts)"
   ]
  },
  {
   "cell_type": "markdown",
   "id": "98d1445c",
   "metadata": {},
   "source": [
    "- After we open a file, we should close it\n"
   ]
  },
  {
   "cell_type": "code",
   "execution_count": null,
   "id": "5f3ca634",
   "metadata": {},
   "outputs": [],
   "source": [
    "from io import TextIOWrapper\n",
    "\n",
    "f: TextIOWrapper = open(\"files/example.txt\")\n",
    "f.close()"
   ]
  },
  {
   "cell_type": "markdown",
   "id": "b3a8ab05",
   "metadata": {},
   "source": [
    "- But there is a high tendency of forgetting to close them.\n",
    "- There is new way of opening files using `with` - closes the files by itself\n"
   ]
  },
  {
   "cell_type": "code",
   "execution_count": null,
   "id": "83a65531",
   "metadata": {},
   "outputs": [
    {
     "name": "stdout",
     "output_type": "stream",
     "text": [
      "<class 'list'>\n",
      "['Hello, this is a sample text file for testing purposes.', '', 'Name: John Doe', 'Age: 28', 'Email: john.doe@example.com', '', 'Favorite Programming Languages:', '- Python', '- Java', '- C++', '', 'Quote of the day:', '\"Code is like humor. When you have to explain it, it’s bad.\" — Cory House']\n"
     ]
    }
   ],
   "source": [
    "with open(\"files/example.txt\") as f:\n",
    "    lines: list[str] = f.read().splitlines()\n",
    "    print(type(lines))\n",
    "    print(lines)"
   ]
  },
  {
   "cell_type": "markdown",
   "id": "8404df2d",
   "metadata": {},
   "source": [
    "##### Opening files for Writing and Updating\n",
    "\n",
    "- f.write() returns the number of characters that have wrote\n",
    "- if you want to write only and do not care the returned value, assign value to `_` (pass intentionally)\n",
    "- `_` also use in another case, not just in this lesson.\n"
   ]
  },
  {
   "cell_type": "code",
   "execution_count": null,
   "id": "0a1bb570",
   "metadata": {},
   "outputs": [],
   "source": [
    "with open(\"files/example.txt\", \"a\") as f:\n",
    "    _ = f.write(\"This text has to be appended at the end\")"
   ]
  },
  {
   "cell_type": "code",
   "execution_count": null,
   "id": "eb28496e",
   "metadata": {},
   "outputs": [],
   "source": [
    "with open(\"files/writing_example.txt\", \"w\") as f:\n",
    "    _ = f.write(\"This text will be written\")"
   ]
  },
  {
   "cell_type": "markdown",
   "id": "6d7bd1c8",
   "metadata": {},
   "source": [
    "### The `with` Statement\n",
    "\n",
    "The `with` keyword in Python is used for **automatic resource management**.\n",
    "\n",
    "Specifically, it ensures that:\n",
    "\n",
    "1.  The resource is **opened** at the beginning of the code block.\n",
    "2.  The resource is **automatically released (closed)** when the block finishes, **even if an error occurs** halfway through.\n",
    "\n",
    "---\n",
    "\n",
    "#### Without `with` (Bad Practice)\n",
    "\n",
    "```python\n",
    "f = open(\"data.txt\", \"r\")\n",
    "content = f.read()\n",
    "f.close()\n",
    "```\n",
    "\n",
    "If an error accidentally occurs before $\\text{f.close()}$ is called, the file will not be closed, leading to a **resource leak**.\n",
    "\n",
    "#### Using `with` (Good Practice)\n",
    "\n",
    "```python\n",
    "with open(\"data.txt\", \"r\") as f:\n",
    "    content = f.read()\n",
    "    print(content)\n",
    "```\n",
    "\n",
    "When exiting the $\\text{with}$ block (even if an error occurs), Python automatically calls $\\text{f.close()}$.\n",
    "\n",
    "---\n",
    "\n",
    "### Context Management Protocol\n",
    "\n",
    "When leave the block `with` (even error), Python automatically call `f.close()`. This mechanism is called the **Context Management Protocol** and involves two special methods:\n",
    "\n",
    "| Method        | Purpose                                                            |\n",
    "| :------------ | :----------------------------------------------------------------- |\n",
    "| `__enter()__` | Runs when the $\\text{with}$ block starts.                          |\n",
    "| `__exit()__`  | Runs when the $\\text{with}$ block is exited (including on errors). |\n",
    "\n",
    "#### Example: Mock Connection Management\n",
    "\n",
    "```python\n",
    "class MyConnection:\n",
    "    def __enter__(self):\n",
    "        print(\"Connection is opened\")\n",
    "        return self # The object returned is bound to 'as conn'\n",
    "\n",
    "    def __exit__(self, exc_type, exc_val, exc_tb):\n",
    "        # exc_type, exc_val, exc_tb hold error information if an exception occurred\n",
    "        print(\"Connection is closed (regardless of errors)\")\n",
    "        # If this method returns False, the exception is re-raised. (Default behavior)\n",
    "\n",
    "    def send(self, data):\n",
    "        print(f\"Sending data: {data}\")\n",
    "\n",
    "# Test usage:\n",
    "with MyConnection() as conn:\n",
    "    conn.send(\"Hello Server\")\n",
    "    # raise ValueError(\"Simulated error\") # Try uncommenting to see __exit__ still run\n",
    "\n",
    "# Output:\n",
    "# Connection is opened\n",
    "# Sending data: Hello Server\n",
    "# Connection is closed (regardless of errors)\n",
    "```\n",
    "\n",
    "---\n",
    "\n",
    "### Error Handling with `__exit()__`\n",
    "\n",
    "The `__exit()__` method can influence how exceptions are handled:\n",
    "\n",
    "- **Return $\\text{False}$** (or any falsy value): The error will be **re-raised** (propagated) outside the $\\text{with}$ block (this is the default behavior).\n",
    "- **Return $\\text{True}$**: The error will be **suppressed** (caught) and will not be propagated outside the $\\text{with}$ block, allowing the program to continue.\n",
    "\n",
    "#### Example: Safe Block\n",
    "\n",
    "```python\n",
    "class SafeBlock:\n",
    "    def __enter__(self):\n",
    "        print(\"Starting safe block\")\n",
    "\n",
    "    def __exit__(self, exc_type, exc_val, exc_tb):\n",
    "        print(\"An error occurred:\", exc_val)\n",
    "        return True # Suppress the exception (don't re-raise it)\n",
    "\n",
    "with SafeBlock():\n",
    "    1 / 0 # division by zero error\n",
    "    print(\"This line won't be reached because of the error\") # This line is skipped\n",
    "\n",
    "print(\"The program continues to run\")\n",
    "\n",
    "# Output:\n",
    "# Starting safe block\n",
    "# An error occurred: division by zero\n",
    "# The program continues to run\n",
    "```\n"
   ]
  },
  {
   "cell_type": "markdown",
   "id": "db1c2235",
   "metadata": {},
   "source": [
    "### Deleting files\n"
   ]
  },
  {
   "cell_type": "code",
   "execution_count": null,
   "id": "2f073c0f",
   "metadata": {},
   "outputs": [],
   "source": [
    "# create deleting files\n",
    "import os\n",
    "from time import sleep\n",
    "\n",
    "with open(\"files/deleting_files.txt\", \"w\") as f:\n",
    "    _ = f.write(\"\")\n",
    "\n",
    "sleep(5)  # pauses 5 seconds to see what will happen\n",
    "\n",
    "# delete\n",
    "os.remove(\"files/deleting_files.txt\")"
   ]
  },
  {
   "cell_type": "code",
   "execution_count": null,
   "id": "1ba0a770",
   "metadata": {},
   "outputs": [
    {
     "name": "stdout",
     "output_type": "stream",
     "text": [
      "The file does not exist\n"
     ]
    }
   ],
   "source": [
    "# If the file does not exist, the remove method will raise an error, so it is good to use a condition like this\n",
    "\n",
    "import os\n",
    "\n",
    "if os.path.exists(\"files/deleting_files.txt\"):\n",
    "    os.remove(\"files/deleting_files.txt\")\n",
    "else:\n",
    "    print(\"The file does not exist\")"
   ]
  },
  {
   "cell_type": "markdown",
   "id": "c10f9c0d",
   "metadata": {},
   "source": [
    "### File types\n",
    "\n",
    "- .txt\n",
    "- .json (JavaScript Object Notation)\n",
    "- .csv (Comma Separated values)\n",
    "- .xlsx (excel file)\n",
    "- .xml (check XML docs: <a href=\"https://docs.python.org/2/library/xml.etree.elementtree.html\">documentation</a>)\n"
   ]
  },
  {
   "cell_type": "markdown",
   "id": "20771a80",
   "metadata": {},
   "source": [
    "- json.load(): reading json file\n",
    "- json.loads():changing json to dictionary\n",
    "- json.dump(): writing json a file\n",
    "- json.dumps(): changing dictionary to json\n",
    "\n",
    "So basically, json method without 's' use to read/write file, json method with 's' use to work with dictionary.\n"
   ]
  },
  {
   "cell_type": "code",
   "execution_count": null,
   "id": "011ea86c",
   "metadata": {},
   "outputs": [
    {
     "name": "stdout",
     "output_type": "stream",
     "text": [
      "<class 'dict'>\n",
      "{'name': 'Apple', 'country': 'Finland', 'city': 'Vietnam', 'skills': ['JS', 'React', 'Python']}\n",
      "Apple\n"
     ]
    }
   ],
   "source": [
    "# changing json to dictionary (using json module and loads(var_json) method)\n",
    "\n",
    "import json\n",
    "\n",
    "# json is basically a string that contains the data\n",
    "# so we have to convert it into Python's internal dictionary type\n",
    "# (even though they look very similar)\n",
    "person_json: str = \"\"\"{\n",
    "    \"name\": \"Apple\",\n",
    "    \"country\": \"Finland\",\n",
    "    \"city\": \"Vietnam\",\n",
    "    \"skills\": [\"JS\", \"React\", \"Python\"]\n",
    "}\"\"\"\n",
    "\n",
    "person_dict: dict[str, str | list[str]] = json.loads(person_json)\n",
    "\n",
    "print(type(person_dict))\n",
    "print(person_dict)\n",
    "print(person_dict[\"name\"])"
   ]
  },
  {
   "cell_type": "code",
   "execution_count": null,
   "id": "bbb12ada",
   "metadata": {},
   "outputs": [
    {
     "name": "stdout",
     "output_type": "stream",
     "text": [
      "<class 'str'>\n",
      "{\n",
      "    \"name\": \"Asabeneh\",\n",
      "    \"country\": \"Finland\",\n",
      "    \"city\": \"Helsinki\",\n",
      "    \"skills\": [\n",
      "        \"JavaScrip\",\n",
      "        \"React\",\n",
      "        \"Python\"\n",
      "    ]\n",
      "}\n"
     ]
    }
   ],
   "source": [
    "# changing dictionary to json\n",
    "# (using dumps(var_dict) method from json module)\n",
    "\n",
    "import json\n",
    "\n",
    "# python dictionary\n",
    "person: dict[str, str | list[str]] = {\n",
    "    \"name\": \"Asabeneh\",\n",
    "    \"country\": \"Finland\",\n",
    "    \"city\": \"Helsinki\",\n",
    "    \"skills\": [\"JavaScrip\", \"React\", \"Python\"],\n",
    "}\n",
    "\n",
    "person_json = json.dumps(\n",
    "    person, indent=4\n",
    ")  # indent could be 2, 4, 8. It beautifies the json\n",
    "print(type(person_json))\n",
    "print(person_json)"
   ]
  },
  {
   "cell_type": "code",
   "execution_count": null,
   "id": "7336ec72",
   "metadata": {},
   "outputs": [],
   "source": [
    "# Saving as JSON file\n",
    "# writing json a file, use json.dump() method (different than json.dumps() above)\n",
    "# it can take dictionary, output file, ensure_ascii and indent.\n",
    "\n",
    "import json\n",
    "\n",
    "person: dict[str, str | list[str]] = {\n",
    "    \"name\": \"Apple\",\n",
    "    \"country\": \"Finland\",\n",
    "    \"city\": \"Vietnam\",\n",
    "    \"skills\": [\"JavaScript\", \"Python\"],\n",
    "}\n",
    "\n",
    "with open(\"files/json_example.json\", \"w\", encoding=\"utf-8\") as f:\n",
    "    json.dump(person, f, ensure_ascii=False, indent=4)"
   ]
  }
 ],
 "metadata": {
  "kernelspec": {
   "display_name": "base",
   "language": "python",
   "name": "python3"
  },
  "language_info": {
   "codemirror_mode": {
    "name": "ipython",
    "version": 3
   },
   "file_extension": ".py",
   "mimetype": "text/x-python",
   "name": "python",
   "nbconvert_exporter": "python",
   "pygments_lexer": "ipython3",
   "version": "3.13.5"
  }
 },
 "nbformat": 4,
 "nbformat_minor": 5
}
