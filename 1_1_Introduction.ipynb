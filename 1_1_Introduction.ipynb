{
 "cells": [
  {
   "cell_type": "markdown",
   "id": "48623e26-0ce8-4126-9074-1f7669d41bd0",
   "metadata": {},
   "source": [
    "# Day 1: Welcome to python\n",
    "\n",
    "## Introduction\n",
    "\n",
    "Python is a high-level programming language for general-purpose programming. It is an open source, interpreted, objected-oriented programming language. Python was created by a Dutch programmer, Guido van Rossum. The name of the Python programming language was derived from a British sketch comedy series, Monty Python's Flying Circus. The first version was released on February 20, 1991.\n",
    "\n",
    "## Basic Syntax\n"
   ]
  },
  {
   "cell_type": "code",
   "execution_count": null,
   "id": "c934d30c-be2f-42e1-9a71-2304ef4e008f",
   "metadata": {},
   "outputs": [],
   "source": [
    "# Single line comment\n",
    "\n",
    "\"\"\"This is multiline comment\n",
    "multiple lines\n",
    "hello\n",
    "haha\n",
    "\"\"\""
   ]
  },
  {
   "cell_type": "code",
   "execution_count": null,
   "id": "b5f8a60f-2e49-4c80-b64b-a6ea5a13292a",
   "metadata": {
    "jp-MarkdownHeadingCollapsed": true
   },
   "outputs": [
    {
     "name": "stdout",
     "output_type": "stream",
     "text": [
      "3\n",
      "-2.25\n",
      "(1+1j)\n",
      "Hello world\n",
      "True\n",
      "False\n",
      "Hello world\n",
      "{'first_name': 'PhuQuy', 'age': 250}\n",
      "('Me', 'My', 'I', 'He', 'She')\n",
      "{2, 3, 4, 5}\n",
      "2\n",
      "2\n",
      "6\n",
      "1.5\n",
      "9\n",
      "1\n",
      "1\n",
      "<class 'int'>\n",
      "<class 'float'>\n",
      "<class 'complex'>\n",
      "<class 'str'>\n",
      "<class 'list'>\n",
      "<class 'dict'>\n",
      "<class 'set'>\n",
      "<class 'tuple'>\n",
      "<class 'bool'>\n",
      "<class 'zip'>\n"
     ]
    }
   ],
   "source": [
    "# Number\n",
    "print(3)  # int\n",
    "print(-2.25)  # float\n",
    "print(1 + 1j)  # complex\n",
    "\n",
    "# String\n",
    "a: str = \"Hello world\"\n",
    "print(a)\n",
    "\n",
    "# Booleans\n",
    "print(True)  # True\n",
    "print(False)  # False\n",
    "\n",
    "# List\n",
    "b: list[str] = [1, 2, 3, 4, 5]\n",
    "print(a)\n",
    "\n",
    "# Dictionary (kinda similar to Object in JavaScript)\n",
    "c = {\"first_name\": \"PhuQuy\", \"age\": 250}\n",
    "print(c)\n",
    "\n",
    "# Tuple\n",
    "# A tuple is an ordered collection of different data types like list but every elements in tuple are immutable.\n",
    "\n",
    "d = (\"Me\", \"My\", \"I\", \"He\", \"She\")\n",
    "print(d)\n",
    "\n",
    "# Set (stores only unique items, automatically sorted ascending also)\n",
    "f = {2, 4, 3, 5}\n",
    "print(f)\n",
    "\n",
    "# Basic calculation\n",
    "print(1 + 1)  # addition(+)\n",
    "print(3 - 1)  # subtraction(-)\n",
    "print(2 * 3)  # multiplication(*)\n",
    "print(3 / 2)  # division(/)\n",
    "print(3**2)  # exponential(**)\n",
    "print(3 % 2)  # modulus(%)\n",
    "print(3 // 2)  # floor division operator(//)\n",
    "\n",
    "# Checking data types\n",
    "print(type(10))  # int\n",
    "print(type(3.14))  # float\n",
    "print(type(1 + 3j))  # complex\n",
    "print(type(\"hello\"))  # str\n",
    "print(type([1, 2, 3]))  # list\n",
    "print(type({\"name\": \"Quy\"}))  # dict\n",
    "print(type({9.8, 3.14, 2.7}))  # set\n",
    "print(type((9.8, 3.14, 2.7)))  # tuple\n",
    "print(type(True))  # bool\n",
    "print(type(zip([1, 2], [3, 4])))  # zip"
   ]
  },
  {
   "cell_type": "markdown",
   "id": "ed53680d-dbbf-4e98-a8be-2ab658bdd128",
   "metadata": {},
   "source": [
    "## Casting\n"
   ]
  },
  {
   "cell_type": "markdown",
   "id": "3b339125",
   "metadata": {},
   "source": [
    "**Type casting** (also known as type conversion) is the process of converting a value from one data type to another.\n",
    "\n",
    "Python supports two types of casting:\n",
    "\n",
    "---\n",
    "\n",
    "### 1\\. Explicit Casting\n",
    "\n",
    "This is manually performed by the programmer using built-in functions.\n",
    "\n",
    "```python\n",
    "# Number to string\n",
    "a = 10\n",
    "b = str(a)\n",
    "print(b, type(b)) # \"10\" <class 'str'>\n",
    "\n",
    "# String to number\n",
    "c = \"3.14\"\n",
    "d = float(c)\n",
    "print(d, type(d)) # 3.14 <class 'float'>\n",
    "\n",
    "# List to set\n",
    "e = [1, 2, 2, 3]\n",
    "f = set(e)\n",
    "print(f) # {1, 2, 3}\n",
    "```\n"
   ]
  },
  {
   "cell_type": "code",
   "execution_count": null,
   "id": "5afde42d-0659-4f14-9c02-6999b6a85f51",
   "metadata": {},
   "outputs": [
    {
     "name": "stdout",
     "output_type": "stream",
     "text": [
      "num_int 10\n",
      "num_float: 10.0\n",
      "9\n",
      "10\n",
      "10\n",
      "num_float 10.6\n",
      "num_int 10\n",
      "Asabeneh\n",
      "['A', 's', 'a', 'b', 'e', 'n', 'e', 'h']\n"
     ]
    }
   ],
   "source": [
    "# int to float\n",
    "num_int = 10\n",
    "print(\"num_int\", num_int)  # 10\n",
    "num_float = float(num_int)\n",
    "print(\"num_float:\", num_float)  # 10.0\n",
    "\n",
    "# float to int\n",
    "gravity = 9.81\n",
    "print(int(gravity))  # 9\n",
    "\n",
    "# int to str\n",
    "num_int = 10\n",
    "print(num_int)  # 10\n",
    "num_str = str(num_int)\n",
    "print(num_str)  # '10'\n",
    "\n",
    "# str to int or float\n",
    "num_str = \"10.6\"\n",
    "num_float = float(num_str)\n",
    "print(\"num_float\", float(num_str))  # 10.6\n",
    "num_int = int(num_float)\n",
    "print(\"num_int\", int(num_int))  # 10\n",
    "\n",
    "# str to list\n",
    "first_name = \"Asabeneh\"\n",
    "print(first_name)  # 'Asabeneh'\n",
    "first_name_to_list = list(first_name)\n",
    "print(first_name_to_list)  # ['A', 's', 'a', 'b', 'e', 'n', 'e', 'h']"
   ]
  },
  {
   "cell_type": "markdown",
   "id": "863dcda1",
   "metadata": {},
   "source": [
    "---\n",
    "\n",
    "### 2\\. Implicit Casting\n",
    "\n",
    "This is automatically performed by Python when needed. Python automatically converts types as required to ensure accuracy in operations.\n",
    "\n",
    "```python\n",
    "x = 5      # int\n",
    "y = 2.0    # float\n",
    "z = x + y  # float + int → float\n",
    "print(z)       # 7.0\n",
    "print(type(z)) # <class 'float'>\n",
    "```\n"
   ]
  },
  {
   "cell_type": "markdown",
   "id": "36e0569e",
   "metadata": {},
   "source": [
    "## Comparison Operators\n"
   ]
  },
  {
   "cell_type": "code",
   "execution_count": null,
   "id": "d809b6ed",
   "metadata": {},
   "outputs": [],
   "source": [
    "print(3 > 2)  # True, because 3 is greater than 2\n",
    "print(3 >= 2)  # True, because 3 is greater than 2\n",
    "print(3 < 2)  # False,  because 3 is greater than 2\n",
    "print(2 < 3)  # True, because 2 is less than 3\n",
    "print(2 <= 3)  # True, because 2 is less than 3\n",
    "print(3 == 2)  # False, because 3 is not equal to 2\n",
    "print(3 != 2)  # True, because 3 is not equal to 2\n",
    "print(len(\"mango\") == len(\"avocado\"))  # False\n",
    "print(len(\"mango\") != len(\"avocado\"))  # True\n",
    "print(len(\"mango\") < len(\"avocado\"))  # True\n",
    "print(len(\"milk\") != len(\"meat\"))  # False\n",
    "print(len(\"milk\") == len(\"meat\"))  # True\n",
    "print(len(\"tomato\") == len(\"potato\"))  # True\n",
    "print(len(\"python\") > len(\"dragon\"))  # False\n",
    "\n",
    "\n",
    "# Comparing something gives either a True or False\n",
    "\n",
    "print(\"True == True: \", True == True)\n",
    "print(\"True == False: \", True == False)\n",
    "print(\"False == False:\", False == False)"
   ]
  },
  {
   "cell_type": "markdown",
   "id": "029d1070",
   "metadata": {},
   "source": [
    "## More comparison operators\n",
    "\n",
    "- **is:** Returns true if both variables are the same object(x is y)\n",
    "- **is not:** Returns true if both variables are not the same object(x is not y)\n",
    "- **in:** Returns true if the queried list contains a certain item(x in y)\n",
    "- **not in:** Returns true if the queried list doesn't have a certain item(x in y)\n"
   ]
  },
  {
   "cell_type": "code",
   "execution_count": null,
   "id": "305e945a",
   "metadata": {},
   "outputs": [
    {
     "name": "stdout",
     "output_type": "stream",
     "text": [
      "1 is 1 True\n",
      "1 is not 2 True\n",
      "A in Asabeneh True\n",
      "B in Asabeneh False\n",
      "True\n",
      "a in an: True\n",
      "4 is 2 ** 2: True\n",
      "1 == 1 True\n",
      "1 != 2 True\n",
      "A in Apple True\n",
      "B in Apple False\n",
      "Coding in Coding for all True\n",
      "a in an: True\n",
      "4 == 2 ** 2: True\n"
     ]
    }
   ],
   "source": [
    "print(\"1 is 1\", 1 is 1)  # True - because the data values are the same\n",
    "print(\"1 is not 2\", 1 is not 2)  # True - because 1 is not 2\n",
    "print(\"A in Asabeneh\", \"A\" in \"Asabeneh\")  # True - A found in the string\n",
    "print(\"B in Asabeneh\", \"B\" in \"Asabeneh\")  # False - there is no uppercase B\n",
    "print(\n",
    "    \"coding\" in \"coding for all\"\n",
    ")  # True - because coding for all has the word coding\n",
    "print(\"a in an:\", \"a\" in \"an\")  # True\n",
    "print(\"4 is 2 ** 2:\", 4 is 2**2)  # True"
   ]
  },
  {
   "cell_type": "code",
   "execution_count": null,
   "id": "6b80bbf8",
   "metadata": {},
   "outputs": [],
   "source": [
    "# But for the best practice, you should go with this way\n",
    "print(\"1 == 1\", 1 == 1)  # True\n",
    "print(\"1 != 2\", 1 != 2)  # True\n",
    "print(\"A in Apple\", \"A\" in \"Apple\")  # True\n",
    "print(\"B in Apple\", \"B\" in \"Apple\")  # False\n",
    "print(\"Coding in Coding for all\", \"Coding\" in \"Coding for all\")  # True\n",
    "print(\"a in an:\", \"a\" in \"an\")  # True\n",
    "print(\"4 == 2 ** 2:\", 4 == 2**2)  # True\n",
    "\n",
    "# Because is, is not use when you want to check two variables that reference to the same object"
   ]
  },
  {
   "cell_type": "markdown",
   "id": "efe371a6",
   "metadata": {},
   "source": [
    "## Logical Operators\n"
   ]
  },
  {
   "cell_type": "code",
   "execution_count": null,
   "id": "c64ecc40",
   "metadata": {},
   "outputs": [],
   "source": [
    "print(3 > 2 and 4 > 3)  # True - because both statements are true\n",
    "print(3 > 2 and 4 < 3)  # False - because the second statement is false\n",
    "print(3 < 2 and 4 < 3)  # False - because both statements are false\n",
    "print(\"True and True: \", True and True)\n",
    "print(3 > 2 or 4 > 3)  # True - because both statements are true\n",
    "print(3 > 2 or 4 < 3)  # True - because one of the statements is true\n",
    "print(3 < 2 or 4 < 3)  # False - because both statements are false\n",
    "print(\"True or False:\", True or False)\n",
    "print(not 3 > 2)  # False - because 3 > 2 is true, then not True gives False\n",
    "print(not True)  # False - Negation, the not operator turns true to false\n",
    "print(not False)  # True\n",
    "print(not not True)  # True\n",
    "print(not not False)  # False"
   ]
  },
  {
   "cell_type": "markdown",
   "id": "e107661f",
   "metadata": {},
   "source": [
    "## String\n"
   ]
  },
  {
   "cell_type": "code",
   "execution_count": null,
   "id": "4befd88f",
   "metadata": {},
   "outputs": [],
   "source": [
    "# python string is immutable\n",
    "\n",
    "greeting: str = \"Hello World!\"\n",
    "print(greeting)\n",
    "print(len(greeting))"
   ]
  },
  {
   "cell_type": "code",
   "execution_count": null,
   "id": "ad1670f4",
   "metadata": {},
   "outputs": [],
   "source": [
    "multiline_string = \"\"\"I am a teacher and enjoy teaching.\n",
    "I didn't find anything as rewarding as empowering people.\n",
    "That is why I created 30 days of python.\"\"\"\n",
    "print(multiline_string)"
   ]
  },
  {
   "cell_type": "code",
   "execution_count": null,
   "id": "c625e55c",
   "metadata": {},
   "outputs": [],
   "source": [
    "# concatenate string\n",
    "\n",
    "h: str = \"Hello\"\n",
    "w: str = \"World!\"\n",
    "hw: str = h + w\n",
    "print(hw)\n",
    "print(len(hw))"
   ]
  },
  {
   "cell_type": "code",
   "execution_count": null,
   "id": "0ba7433f",
   "metadata": {},
   "outputs": [
    {
     "name": "stdout",
     "output_type": "stream",
     "text": [
      "Hello \n",
      " World!\n",
      "Hello \t World!\n",
      "Hello \\ World!\n",
      "Hello ' World!\n",
      "Hello \" World!\n"
     ]
    }
   ],
   "source": [
    "# escape sequences in strings\n",
    "\n",
    "print(\"Hello \\n World!\")\n",
    "print(\"Hello \\t World!\")\n",
    "print(\"Hello \\\\ World!\")\n",
    "print(\"Hello ' World!\")\n",
    "print('Hello \" World!')"
   ]
  },
  {
   "cell_type": "markdown",
   "id": "79ba1477",
   "metadata": {},
   "source": [
    "### String formatting\n"
   ]
  },
  {
   "cell_type": "code",
   "execution_count": null,
   "id": "7e7c7ecf",
   "metadata": {},
   "outputs": [
    {
     "name": "stdout",
     "output_type": "stream",
     "text": [
      "Hello World\n",
      "The area: 31.40.\n"
     ]
    }
   ],
   "source": [
    "# Old style string formatting (% Operator)\n",
    "\n",
    "# %s: string\n",
    "# %d: int\n",
    "# %f: float\n",
    "# %.`num of digits`f: float with fixed precision\n",
    "\n",
    "h: str = \"Hello\"\n",
    "w: str = \"World\"\n",
    "hw: str = \"%s %s\" % (h, w)\n",
    "print(hw)\n",
    "\n",
    "radius: int = 10\n",
    "pi: float = 3.14\n",
    "area: float = pi * radius\n",
    "formatted: str = \"The area: %.2f.\" % (area)\n",
    "print(formatted)"
   ]
  },
  {
   "cell_type": "code",
   "execution_count": null,
   "id": "20a29bd1",
   "metadata": {},
   "outputs": [],
   "source": [
    "# New style string formatting (str.format)\n",
    "\n",
    "h: str = \"Hello\"\n",
    "w: str = \"World\"\n",
    "hw: str = \"{} {}\".format(h, w)"
   ]
  },
  {
   "cell_type": "code",
   "execution_count": null,
   "id": "a746813b",
   "metadata": {},
   "outputs": [
    {
     "name": "stdout",
     "output_type": "stream",
     "text": [
      "4 + 5 = 9\n",
      "4 - 5 = -1\n",
      "4 * 5 = 20\n",
      "4 / 5 = 0.8\n",
      "4 + 5 = 9\n",
      "4 - 5 = -1\n",
      "4 * 5 = 20\n",
      "4 / 5 = 0.80\n",
      "4 % 5 = 4\n",
      "4 // 5 = 0\n",
      "4 ** 5 = 1024\n"
     ]
    }
   ],
   "source": [
    "# f-Strings style formatting\n",
    "\n",
    "a: int = 4\n",
    "b: int = 5\n",
    "print(f\"{a} + {b} = {a + b}\")\n",
    "print(f\"{a} - {b} = {a - b}\")\n",
    "print(f\"{a} * {b} = {a * b}\")\n",
    "print(f\"{a} / {b} = {a / b:.2f}\")\n",
    "print(f\"{a} % {b} = {a % b}\")\n",
    "print(f\"{a} // {b} = {a // b}\")\n",
    "print(f\"{a} ** {b} = {a ** b}\")"
   ]
  },
  {
   "cell_type": "markdown",
   "id": "e404a557",
   "metadata": {},
   "source": [
    "### Python String as sequences of characters\n"
   ]
  },
  {
   "cell_type": "code",
   "execution_count": null,
   "id": "d852bde8",
   "metadata": {},
   "outputs": [],
   "source": [
    "# Unpacking Characters\n",
    "\n",
    "h: str = \"Hello\"\n",
    "a, b, c, d, e = h\n",
    "print(a)\n",
    "print(b)\n",
    "print(c)\n",
    "print(d)\n",
    "print(e)"
   ]
  },
  {
   "cell_type": "code",
   "execution_count": null,
   "id": "afa6467f",
   "metadata": {},
   "outputs": [
    {
     "name": "stdout",
     "output_type": "stream",
     "text": [
      "H\n",
      "e\n",
      "l\n",
      "l\n",
      "o\n",
      "\n",
      "o\n",
      "l\n",
      "l\n",
      "e\n",
      "H\n"
     ]
    }
   ],
   "source": [
    "# Accessing characters in strings by index\n",
    "\n",
    "h: str = \"Hello\"\n",
    "for i in range(0, len(h)):\n",
    "    print(h[i])\n",
    "print()\n",
    "\n",
    "# Start from right end we can use negative index\n",
    "# -1 is the last index\n",
    "\n",
    "print(h[-1])\n",
    "for i in range(1, len(h) + 1):\n",
    "    print(h[-i])"
   ]
  },
  {
   "cell_type": "code",
   "execution_count": null,
   "id": "ff407c3f",
   "metadata": {},
   "outputs": [
    {
     "name": "stdout",
     "output_type": "stream",
     "text": [
      "Hel\n",
      "rld\n"
     ]
    }
   ],
   "source": [
    "# Syntax for slicing: sequence[start:stop:step]\n",
    "# start: default index is 0\n",
    "# end: default index is len(sequence) up to len(sequence) but not include len(sequence)\n",
    "# step: default value is 1, when step is negative so it will backward\n",
    "\n",
    "hw: str = \"Hello World\"\n",
    "first_three: str = hw[0:3]\n",
    "print(first_three)\n",
    "last_three: str = hw[len(hw) - 3 : len(hw)]\n",
    "print(last_three)"
   ]
  },
  {
   "cell_type": "code",
   "execution_count": null,
   "id": "228340a1",
   "metadata": {},
   "outputs": [
    {
     "name": "stdout",
     "output_type": "stream",
     "text": [
      "dlroW olleH\n"
     ]
    }
   ],
   "source": [
    "# Reverse String\n",
    "\n",
    "hw: str = \"Hello World\"\n",
    "\n",
    "# because python string is immutable\n",
    "# we could manipulate through array\n",
    "\n",
    "a: list[str] = list(hw)\n",
    "i: int = 0\n",
    "j: int = len(a) - 1\n",
    "while i <= j:\n",
    "    temp: str = a[i]\n",
    "    a[i] = a[j]\n",
    "    a[j] = temp\n",
    "    i += 1\n",
    "    j -= 1\n",
    "\n",
    "hw = \"\".join(a)\n",
    "print(hw)"
   ]
  },
  {
   "cell_type": "code",
   "execution_count": null,
   "id": "b3c3dc58",
   "metadata": {},
   "outputs": [
    {
     "name": "stdout",
     "output_type": "stream",
     "text": [
      "dlroW olleH\n"
     ]
    }
   ],
   "source": [
    "# Reverse String in python style\n",
    "\n",
    "hw: str = \"Hello World\"\n",
    "hw = hw[::-1]\n",
    "print(hw)"
   ]
  },
  {
   "cell_type": "code",
   "execution_count": null,
   "id": "758cc255",
   "metadata": {},
   "outputs": [
    {
     "name": "stdout",
     "output_type": "stream",
     "text": [
      "Pto\n"
     ]
    }
   ],
   "source": [
    "language: str = \"Python\"\n",
    "pto: str = language[0:6:2]\n",
    "print(pto)"
   ]
  },
  {
   "cell_type": "markdown",
   "id": "f78322c5",
   "metadata": {},
   "source": [
    "### String methods\n",
    "\n",
    "#### **Case Conversion Methods**\n",
    "\n",
    "| Method             | Description                                 | Example                                 |\n",
    "| :----------------- | :------------------------------------------ | :-------------------------------------- |\n",
    "| **`upper()`**      | Converts the entire string to uppercase.    | `\"hello\".upper() → \"HELLO\"`             |\n",
    "| **`lower()`**      | Converts the entire string to lowercase.    | `\"Hello\".lower() → \"hello\"`             |\n",
    "| **`capitalize()`** | Capitalizes the first letter of the string. | `\"python\".capitalize() → \"Python\"`      |\n",
    "| **`title()`**      | Capitalizes the first letter of each word.  | `\"hello world\".title() → \"Hello World\"` |\n",
    "| **`swapcase()`**   | Swaps the case of letters (upper ↔ lower).  | `\"PyThOn\".swapcase() → \"pYtHoN\"`        |\n",
    "\n",
    "---\n",
    "\n",
    "#### **Content Validation Methods**\n",
    "\n",
    "These methods return `True` or `False`.\n",
    "\n",
    "| Method          | Description                     | Example                          |\n",
    "| :-------------- | :------------------------------ | :------------------------------- |\n",
    "| **`isalpha()`** | Consists only of letters?       | `\"abc\".isalpha() → True`         |\n",
    "| **`isdigit()`** | Consists only of digits?        | `\"123\".isdigit() → True`         |\n",
    "| **`isalnum()`** | Consists of letters or numbers? | `\"abc123\".isalnum() → True`      |\n",
    "| **`isspace()`** | Consists only of whitespace?    | `\" \".isspace() → True`           |\n",
    "| **`islower()`** | Are all characters lowercase?   | `\"python\".islower() → True`      |\n",
    "| **`isupper()`** | Are all characters uppercase?   | `\"PY\".isupper() → True`          |\n",
    "| **`istitle()`** | Is the string in Title Case?    | `\"Hello World\".istitle() → True` |\n",
    "\n",
    "---\n",
    "\n",
    "#### **Find & Replace Methods**\n",
    "\n",
    "| Method                   | Description                                            | Example                                                     |\n",
    "| :----------------------- | :----------------------------------------------------- | :---------------------------------------------------------- |\n",
    "| **`find(sub)`**          | Returns the first index of `sub` (or -1 if not found). | `\"hello\".find(\"l\") → 2`                                     |\n",
    "| **`rfind(sub)`**         | The last index of `sub`.                               | `\"hello\".rfind(\"l\") → 3`                                    |\n",
    "| **`count(sub)`**         | Counts the number of occurrences.                      | `\"banana\".count(\"a\") → 3`                                   |\n",
    "| **`replace(old, new)`**  | Replaces a substring.                                  | `\"hello world\".replace(\"world\", \"Python\") → \"hello Python\"` |\n",
    "| **`startswith(prefix)`** | Does the string start with...?                         | `\"hello\".startswith(\"he\") → True`                           |\n",
    "| **`endswith(suffix)`**   | Does the string end with...?                           | `\"hello\".endswith(\"lo\") → True`                             |\n",
    "\n",
    "---\n",
    "\n",
    "#### **Split & Join Methods**\n",
    "\n",
    "| Method           | Description                                       | Example                                 |\n",
    "| :--------------- | :------------------------------------------------ | :-------------------------------------- |\n",
    "| **`split()`**    | Splits a string into a list based on a delimiter. | `\"a,b,c\".split(\",\") → ['a','b','c']`    |\n",
    "| **`rsplit()`**   | Splits from the right (less common).              | `\"a,b,c\".rsplit(\",\", 1) → ['a,b', 'c']` |\n",
    "| **`join(list)`** | Joins a list into a string.                       | `\",\".join([\"a\",\"b\",\"c\"]) → \"a,b,c\"`     |\n",
    "\n",
    "---\n",
    "\n",
    "#### **Whitespace Methods**\n",
    "\n",
    "| Method          | Description                                               | Example                       |\n",
    "| :-------------- | :-------------------------------------------------------- | :---------------------------- |\n",
    "| **`strip(c)`**  | Removes character (default is whitespace) from both ends. | `\" hello \".strip() → \"hello\"` |\n",
    "| **`lstrip(c)`** | Removes character from the left.                          | `\" hello\".lstrip() → \"hello\"` |\n",
    "| **`rstrip(c)`** | Removes character from the right.                         | `\"hello \".rstrip() → \"hello\"` |\n",
    "\n",
    "**💡 Note:** Besides whitespace, `strip()` can also remove specified characters: `\">>>hello<<<\".strip(\"><\") # \"hello\"`\n",
    "\n",
    "---\n",
    "\n",
    "#### **Alignment & Padding Methods**\n",
    "\n",
    "| Method              | Description                         | Example                          |\n",
    "| :------------------ | :---------------------------------- | :------------------------------- |\n",
    "| **`center(width)`** | Centers the string.                 | `\"Hi\".center(6, \"-\") → \"--Hi--\"` |\n",
    "| **`ljust(width)`**  | Left-aligns the string.             | `\"Hi\".ljust(6, \".\") → \"Hi....\"`  |\n",
    "| **`rjust(width)`**  | Right-aligns the string.            | `\"Hi\".rjust(6, \".\") → \"....Hi\"`  |\n",
    "| **`zfill(width)`**  | Pads the string with leading zeros. | `\"42\".zfill(5) → \"00042\"`        |\n",
    "\n",
    "---\n",
    "\n",
    "### **Encoding & Special Character Methods**\n",
    "\n",
    "| Method              | Description                      | Example                              |\n",
    "| :------------------ | :------------------------------- | :----------------------------------- |\n",
    "| **`encode()`**      | Encodes the string into `bytes`. | `\"Hello\".encode(\"utf-8\") → b'Hello'` |\n",
    "| **`decode()`**      | Decodes `bytes` into a string.   | `b'Hello'.decode(\"utf-8\") → \"Hello\"` |\n",
    "| **`expandtabs(n)`** | Replaces tabs with spaces.       | `\"A\\tB\".expandtabs(4) → \"A B\"`       |\n",
    "\n",
    "---\n",
    "\n",
    "### **Checking & Partitioning Methods**\n",
    "\n",
    "| Method               | Description                                     | Example                                                            |\n",
    "| :------------------- | :---------------------------------------------- | :----------------------------------------------------------------- |\n",
    "| **`startswith()`**   | Starts with a substring?                        | `\"Python\".startswith(\"Py\") → True`                                 |\n",
    "| **`endswith()`**     | Ends with a substring?                          | `\"Python\".endswith(\"on\") → True`                                   |\n",
    "| **`partition(sep)`** | Splits into 3 parts (before, separator, after). | `\"email@domain.com\".partition(\"@\") → ('email', '@', 'domain.com')` |\n",
    "\n",
    "---\n",
    "\n",
    "### **String Formatting**\n",
    "\n",
    "| Method         | Example                           | Output            |\n",
    "| :------------- | :-------------------------------- | :---------------- |\n",
    "| **`format()`** | `\"Hello, {}\".format(\"Nguyen\")`    | `\"Hello, Nguyen\"` |\n",
    "| **f-string**   | `name=\"Nguyen\"; f\"Hello, {name}\"` | `\"Hello, Nguyen\"` |\n",
    "| **% style**    | `\"Pi = %.2f\" % 3.14159`           | `\"Pi = 3.14\"`     |\n"
   ]
  },
  {
   "cell_type": "code",
   "execution_count": null,
   "id": "8e7c4335",
   "metadata": {},
   "outputs": [
    {
     "name": "stdout",
     "output_type": "stream",
     "text": [
      "Hello world\n"
     ]
    }
   ],
   "source": [
    "# capitalize(): converts the first character of the string to capital letter\n",
    "\n",
    "hw: str = \"hello world\"\n",
    "print(hw.capitalize())"
   ]
  },
  {
   "cell_type": "code",
   "execution_count": null,
   "id": "d2efcec1",
   "metadata": {},
   "outputs": [
    {
     "name": "stdout",
     "output_type": "stream",
     "text": [
      "2\n",
      "1\n",
      "1\n"
     ]
    }
   ],
   "source": [
    "# count(): returns occurrences of substring in string, count(substring, start=.., end=..). The start is a starting indexing for counting and end is the last index to count.\n",
    "\n",
    "challenge: str = \"This challenge is hard\"\n",
    "print(challenge.count(\"l\"))\n",
    "print(challenge.count(\"s\", 2, 6))\n",
    "print(challenge.count(\"th\"))\n",
    "\n",
    "# It is the faster way than traditional loop"
   ]
  },
  {
   "cell_type": "code",
   "execution_count": null,
   "id": "02d0a140",
   "metadata": {},
   "outputs": [
    {
     "name": "stdout",
     "output_type": "stream",
     "text": [
      "True\n",
      "False\n"
     ]
    }
   ],
   "source": [
    "# endswith(): Checks if a string ends with a specified ending\n",
    "\n",
    "challenge: str = \"This challenge is hard\"\n",
    "print(challenge.endswith(\"rd\"))  # True\n",
    "print(challenge.endswith(\"dark\"))  # False"
   ]
  },
  {
   "cell_type": "code",
   "execution_count": null,
   "id": "eaa87525",
   "metadata": {},
   "outputs": [
    {
     "name": "stdout",
     "output_type": "stream",
     "text": [
      "3\n",
      "0\n",
      "16\n",
      "19\n"
     ]
    }
   ],
   "source": [
    "challenge: str = \"This challenge is hard\"\n",
    "\n",
    "# find(): Returns the index of `first` occurrence of a `substring`, it not found returns -1\n",
    "print(challenge.find(\"s\"))\n",
    "print(challenge.find(\"Th\"))\n",
    "\n",
    "# rfind(): Returns the index of `last` occurrence of a `substring`, it not found returns -1\n",
    "print(challenge.rfind(\"s\"))\n",
    "print(challenge.rfind(\"a\"))"
   ]
  },
  {
   "cell_type": "code",
   "execution_count": null,
   "id": "67cd095f",
   "metadata": {},
   "outputs": [
    {
     "name": "stdout",
     "output_type": "stream",
     "text": [
      "The area of a circle with radius 10 is 314.0\n"
     ]
    }
   ],
   "source": [
    "radius: int = 10\n",
    "pi: float = 3.14\n",
    "area: float = pi * radius**2\n",
    "result: str = \"The area of a circle with radius {} is {}\".format(\n",
    "    str(radius), str(area)\n",
    ")\n",
    "print(result)"
   ]
  },
  {
   "cell_type": "code",
   "execution_count": null,
   "id": "e9262a5f",
   "metadata": {},
   "outputs": [
    {
     "name": "stdout",
     "output_type": "stream",
     "text": [
      "True\n",
      "False\n"
     ]
    }
   ],
   "source": [
    "# isalnum(): checks alphanumeric character\n",
    "\n",
    "challenge1: str = \"ThisChallengeIsHard2022\"\n",
    "challenge2: str = \"This challenge is hard\"\n",
    "print(challenge1.isalnum())  # True\n",
    "print(challenge2.isalnum())  # False (space is not alphanumeric character)"
   ]
  },
  {
   "cell_type": "code",
   "execution_count": null,
   "id": "72206a10",
   "metadata": {},
   "outputs": [
    {
     "name": "stdout",
     "output_type": "stream",
     "text": [
      "False\n",
      "True\n",
      "False\n"
     ]
    }
   ],
   "source": [
    "# isalpha(): checks if all string elements are alphabet character (a-z and A-Z)\n",
    "\n",
    "challenge = \"thirty days of python\"\n",
    "print(challenge.isalpha())  # False, space is once again excluded\n",
    "challenge = \"ThirtyDaysPython\"\n",
    "print(challenge.isalpha())  # True\n",
    "num = \"123\"\n",
    "print(num.isalpha())  # False"
   ]
  },
  {
   "cell_type": "code",
   "execution_count": null,
   "id": "6a9a17b4",
   "metadata": {},
   "outputs": [
    {
     "name": "stdout",
     "output_type": "stream",
     "text": [
      "True\n",
      "True\n",
      "True\n",
      "True\n",
      "False\n"
     ]
    }
   ],
   "source": [
    "# isdecimal(): Checks if all characters in a string are decimal (0-9)\n",
    "# isdigit(): Checks if all characters in a string are numbers (0-9 and some other unicode characters for numbers)\n",
    "# isnumeric(): Checks if all characters in a string are numbers or number related (just like isdigit(), just accepts more symbols, like ½)\n",
    "# islower()\n",
    "# isupper()\n",
    "\n",
    "challenge: str = \"This challenge is hard\"\n",
    "challenge1: str = \"thischallengeishard\"\n",
    "challenge2: str = \"30\"\n",
    "print(challenge2.isdecimal())\n",
    "print(challenge2.isdigit())\n",
    "print(challenge2.isnumeric())\n",
    "print(challenge1.islower())\n",
    "print(challenge1.isupper())"
   ]
  },
  {
   "cell_type": "code",
   "execution_count": null,
   "id": "a5adbd7b",
   "metadata": {},
   "outputs": [
    {
     "name": "stdout",
     "output_type": "stream",
     "text": [
      "HTML CSS JavaScript\n",
      "HTML#CSS#JavaScript\n"
     ]
    }
   ],
   "source": [
    "# join(): Returns a concatenated string\n",
    "web_tech: list[str] = [\"HTML\", \"CSS\", \"JavaScript\"]\n",
    "result = \" \".join(web_tech)  # join with \" \" (space character)\n",
    "print(result)\n",
    "result: str = \"#\".join(web_tech)  # join with \"#\"\n",
    "print(result)"
   ]
  },
  {
   "cell_type": "code",
   "execution_count": null,
   "id": "082d1d5d",
   "metadata": {},
   "outputs": [
    {
     "name": "stdout",
     "output_type": "stream",
     "text": [
      "irty days of py\n"
     ]
    }
   ],
   "source": [
    "# strip(): Removes all given characters from begin to end of string\n",
    "\n",
    "challenge = \"thirty days of pythoonnn\"\n",
    "print(challenge.strip(\"noth\"))  # 'irty days of py'"
   ]
  },
  {
   "cell_type": "code",
   "execution_count": null,
   "id": "5d8f7936",
   "metadata": {},
   "outputs": [],
   "source": [
    "# replace(): Replaces substring with a given string\n",
    "\n",
    "challenge = \"thirty days of python\"\n",
    "print(challenge.replace(\"python\", \"coding\"))  # 'thirty days of coding'"
   ]
  },
  {
   "cell_type": "code",
   "execution_count": null,
   "id": "a4a0f0f5",
   "metadata": {},
   "outputs": [],
   "source": [
    "# split(): Splits the string, using given string or delimiter\n",
    "\n",
    "challenge = \"thirty days of python\"\n",
    "print(challenge.split())  # ['thirty', 'days', 'of', 'python']\n",
    "challenge = \"thirty, days, of, python\"\n",
    "print(challenge.split(\", \"))  # ['thirty', 'days', 'of', 'python']"
   ]
  },
  {
   "cell_type": "markdown",
   "id": "2ebb8b6b",
   "metadata": {},
   "source": [
    "## Overflow and Underflow\n",
    "\n",
    "**Overflow** occurs when a value exceeds the maximum limit that the data type can represent.\n",
    "\n",
    "**Underflow** occurs when a value is smaller than the minimum limit that can be represented.\n",
    "\n",
    "| Data Type | Overflow Occurs?                       | Underflow Occurs?      | Notes             |\n",
    "| :-------- | :------------------------------------- | :--------------------- | :---------------- |\n",
    "| **int**   | No (Python automatically expands size) | No                     | No limit on bits  |\n",
    "| **float** | Yes (results in $\\text{inf}$)          | Yes (approaches $0.0$) | IEEE 754 Standard |\n",
    "\n",
    "Python stores **$\\text{int}$** as an **object**, not a fixed data type on the CPU. Internally, it manages an array of \"digits\" (typically 30 bits or 60 bits per segment), and automatically expands this array when the number becomes too large.\n",
    "\n",
    "When you need high speed (e.g., scientific computing), Python often uses:\n",
    "\n",
    "- $\\text{numpy.int32}$, $\\text{numpy.int64}$ → to **fix the size**, increasing performance.\n",
    "- $\\text{decimal.Decimal}$ → if you want high precision for real numbers (currency, financial calculations).\n"
   ]
  },
  {
   "cell_type": "markdown",
   "id": "1c63f048",
   "metadata": {},
   "source": [
    "## Bytes and string\n",
    "\n",
    "- bytes represents byte string (8-bit), binary data.\n",
    "- Each element in bytes have value from 0 to 255.\n",
    "\n",
    "| Features | `str`          | `bytes`                           |\n",
    "| -------- | -------------- | --------------------------------- |\n",
    "| Data     | text (Unicode) | binary (raw byte)                 |\n",
    "| E.g      | `\"Hello\"`      | `b\"Hello\"`                        |\n",
    "| Usage    | Work with text | Send, receive data, file, network |\n",
    "| Convert  | `.encode()`    | `.decode()`                       |\n",
    "\n",
    "```python\n",
    "s = \"Xin chào\"\n",
    "b = s.encode(\"utf-8\") # str -> bytes\n",
    "print(b) # b'Xin ch\\xc3\\xa0o'\n",
    "\n",
    "s2 = b.decode(\"utf-8\") # bytes -> str\n",
    "print(s2) # Xin chào\n",
    "```\n",
    "\n",
    "```py\n",
    "# 1. literal (b\"string\")\n",
    "\n",
    "b1 = b\"abc\"\n",
    "\n",
    "# 2. list/tuple contains 0–255\n",
    "\n",
    "b2 = bytes([65, 66, 67]) # A, B, C\n",
    "print(b2) # b'ABC'\n",
    "\n",
    "# 3. str + encoding\n",
    "\n",
    "b3 = \"hello\".encode(\"utf-8\")\n",
    "\n",
    "# 4. from bytearray (change from `immutable` to`mutable` version)\n",
    "\n",
    "ba = bytearray([65, 66, 67])\n",
    "b4 = bytes(ba)\n",
    "```\n"
   ]
  }
 ],
 "metadata": {
  "kernelspec": {
   "display_name": "base",
   "language": "python",
   "name": "python3"
  },
  "language_info": {
   "codemirror_mode": {
    "name": "ipython",
    "version": 3
   },
   "file_extension": ".py",
   "mimetype": "text/x-python",
   "name": "python",
   "nbconvert_exporter": "python",
   "pygments_lexer": "ipython3",
   "version": "3.13.5"
  }
 },
 "nbformat": 4,
 "nbformat_minor": 5
}
