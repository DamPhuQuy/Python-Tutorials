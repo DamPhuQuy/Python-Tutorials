{
 "cells": [
  {
   "cell_type": "markdown",
   "id": "7beeaee7",
   "metadata": {},
   "source": [
    "# Higher order functions"
   ]
  },
  {
   "cell_type": "code",
   "execution_count": null,
   "id": "eabe7dfa",
   "metadata": {},
   "outputs": [
    {
     "name": "stdout",
     "output_type": "stream",
     "text": [
      "15\n"
     ]
    }
   ],
   "source": [
    "# Function as parameter\n",
    "\n",
    "from typing import Callable\n",
    "\n",
    "def sum_numbers(nums: list[int]) -> int:\n",
    "    return sum(nums)\n",
    "\n",
    "def higher_order_function(f: Callable[[list[int]], int], lst: list[int]) -> int:\n",
    "    summation: int = f(lst)\n",
    "    return summation\n",
    "\n",
    "result: int = higher_order_function(sum_numbers, [1, 2, 3, 4, 5])\n",
    "print(result)  # 15"
   ]
  },
  {
   "cell_type": "code",
   "execution_count": null,
   "id": "6c133b99",
   "metadata": {},
   "outputs": [],
   "source": [
    "# Function as return value\n",
    "\n",
    "from typing import Callable\n",
    "\n",
    "def square(x: int) -> int:          # a square function\n",
    "    return x ** 2\n",
    "\n",
    "def cube(x: int) -> int:            # a cube function\n",
    "    return x ** 3\n",
    "\n",
    "def absolute(x: int) -> int:        # an absolute value function\n",
    "    if x >= 0:\n",
    "        return x\n",
    "    else:\n",
    "        return -(x)\n",
    "\n",
    "def higher_order_function(type): # a higher order function returning a function\n",
    "    if type == 'square':\n",
    "        return square\n",
    "    elif type == 'cube':\n",
    "        return cube\n",
    "    elif type == 'absolute':\n",
    "        return absolute\n",
    "\n",
    "result = higher_order_function('square')\n",
    "print(result(3))       # 9\n",
    "result = higher_order_function('cube')\n",
    "print(result(3))       # 27\n",
    "result = higher_order_function('absolute')\n",
    "print(result(-3))      # 3"
   ]
  },
  {
   "cell_type": "code",
   "execution_count": null,
   "id": "4fd75a7b",
   "metadata": {},
   "outputs": [],
   "source": [
    "# Python allows a nested function to access the outer scope of the enclosing function. \n",
    "# This is is known as a Closure.\n",
    "\n",
    "def add_ten():\n",
    "    ten = 10\n",
    "    def add(num):\n",
    "        return num + ten\n",
    "    return add\n",
    "\n",
    "closure_result = add_ten()\n",
    "print(closure_result(5))  # 15\n",
    "print(closure_result(10))  # 20"
   ]
  },
  {
   "cell_type": "markdown",
   "id": "8f3d8f52",
   "metadata": {},
   "source": [
    "#### Python Decorators\n",
    "\n",
    "A decorator is a design pattern in Python that allows a user to add new functionality to an existing object without modifying its structure. Decorators are usually called before the definition of a function you want to decorate."
   ]
  },
  {
   "cell_type": "code",
   "execution_count": null,
   "id": "c8b25590",
   "metadata": {},
   "outputs": [
    {
     "name": "stdout",
     "output_type": "stream",
     "text": [
      "WELCOME TO PYTHON\n",
      "WELCOME TO PYTHON\n"
     ]
    }
   ],
   "source": [
    "# Normal function\n",
    "from typing import Any, Callable, Literal\n",
    "\n",
    "\n",
    "def greeting() -> Literal['Welcome to Python']:\n",
    "    return 'Welcome to Python'\n",
    "def uppercase_decorator(function) -> Callable[[], Any]:\n",
    "    def wrapper():\n",
    "        func = function()\n",
    "        make_uppercase = func.upper()\n",
    "        return make_uppercase\n",
    "    return wrapper\n",
    "g: Callable[[], Any] = uppercase_decorator(function=greeting)\n",
    "print(g())          # WELCOME TO PYTHON\n",
    "\n",
    "## Let us implement the example above with a decorator\n",
    "\n",
    "'''This decorator function is a higher order function\n",
    "that takes a function as a parameter'''\n",
    "def uppercase_decorator(function) -> Callable[[], Any]:\n",
    "    def wrapper() -> Any:\n",
    "        func: Any = function()\n",
    "        make_uppercase: Any = func.upper()\n",
    "        return make_uppercase\n",
    "    return wrapper\n",
    "    \n",
    "@uppercase_decorator\n",
    "def greeting() -> Literal['Welcome to Python']:\n",
    "    return 'Welcome to Python'\n",
    "print(greeting())   # WELCOME TO PYTHON\n"
   ]
  },
  {
   "cell_type": "code",
   "execution_count": null,
   "id": "0266fc9c",
   "metadata": {},
   "outputs": [],
   "source": [
    "\n",
    "'''These decorator functions are higher order functions\n",
    "that take functions as parameters'''\n",
    "\n",
    "# First Decorator\n",
    "def uppercase_decorator(function):\n",
    "    def wrapper():\n",
    "        func = function()\n",
    "        make_uppercase = func.upper()\n",
    "        return make_uppercase\n",
    "    return wrapper\n",
    "\n",
    "# Second decorator\n",
    "def split_string_decorator(function):\n",
    "    def wrapper():\n",
    "        func = function()\n",
    "        splitted_string = func.split()\n",
    "        return splitted_string\n",
    "\n",
    "    return wrapper\n",
    "\n",
    "@split_string_decorator\n",
    "@uppercase_decorator     # order with decorators is important in this case - .upper() function does not work with lists\n",
    "def greeting():\n",
    "    return 'Welcome to Python'\n",
    "print(greeting())   # WELCOME TO PYTHON"
   ]
  },
  {
   "cell_type": "code",
   "execution_count": null,
   "id": "f4adba2f",
   "metadata": {},
   "outputs": [],
   "source": [
    "def decorator_with_parameters(function):\n",
    "    def wrapper_accepting_parameters(para1, para2, para3):\n",
    "        function(para1, para2, para3)\n",
    "        print(\"I live in {}\".format(para3))\n",
    "    return wrapper_accepting_parameters\n",
    "\n",
    "@decorator_with_parameters\n",
    "def print_full_name(first_name, last_name, country):\n",
    "    print(\"I am {} {}. I love to teach.\".format(\n",
    "        first_name, last_name, country))\n",
    "\n",
    "print_full_name(\"Asabeneh\", \"Yetayeh\",'Finland')"
   ]
  },
  {
   "cell_type": "markdown",
   "id": "127151d1",
   "metadata": {},
   "source": [
    "#### Built-in higher order functions\n",
    "\n",
    "- map(): takes a function and iterable as parameters, returns map object (iterable) (~.map() in JavaScript)\n",
    "```python\n",
    "# syntax\n",
    ".map(function, iterable) # ~ iterable.map((e) => {}) \n",
    "```\n",
    "\n",
    "- filter(): it filters the items that satisfy the filtering criteria, returns filter object (iterable) (~.filter() in JavaScript)\n",
    "```python\n",
    "# syntax\n",
    ".filter(function, iterable) # ~ iterable.filter((e) => {})\n",
    "```\n",
    "\n",
    "- reduce(): it returns a single value as sum of all elements in list. (~.reduce() in JavaScript)\n",
    "```python\n",
    "# syntax\n",
    ".reduce(function, iterable) # ~ iterable.reduce((e) => {}) in javascript\n",
    "```"
   ]
  },
  {
   "cell_type": "code",
   "execution_count": 8,
   "id": "c7e2f6a3",
   "metadata": {},
   "outputs": [
    {
     "name": "stdout",
     "output_type": "stream",
     "text": [
      "[1, 4, 9, 16, 25]\n"
     ]
    }
   ],
   "source": [
    "numbers: list[int] = [1,2,3,4,5] \n",
    "\n",
    "# .map() \n",
    "numbers_squared: list[int] = list(map(lambda x : x ** 2, numbers))\n",
    "print(numbers_squared)"
   ]
  }
 ],
 "metadata": {
  "kernelspec": {
   "display_name": "base",
   "language": "python",
   "name": "python3"
  },
  "language_info": {
   "codemirror_mode": {
    "name": "ipython",
    "version": 3
   },
   "file_extension": ".py",
   "mimetype": "text/x-python",
   "name": "python",
   "nbconvert_exporter": "python",
   "pygments_lexer": "ipython3",
   "version": "3.13.5"
  }
 },
 "nbformat": 4,
 "nbformat_minor": 5
}
