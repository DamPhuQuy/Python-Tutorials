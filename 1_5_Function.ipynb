{
 "cells": [
  {
   "cell_type": "markdown",
   "id": "c6d6455e",
   "metadata": {},
   "source": [
    "# Function "
   ]
  },
  {
   "cell_type": "code",
   "execution_count": 1,
   "id": "6aec34d6",
   "metadata": {},
   "outputs": [
    {
     "name": "stdout",
     "output_type": "stream",
     "text": [
      "Phu Quy Dam\n"
     ]
    }
   ],
   "source": [
    "# function without parameters\n",
    "\n",
    "def generate_full_name() -> None: \n",
    "    first_name: str = \"Phu Quy\" \n",
    "    last_name: str = \"Dam\" \n",
    "    space: str = \" \"\n",
    "    full_name: str = first_name + space + last_name\n",
    "    print(full_name) \n",
    "\n",
    "generate_full_name()"
   ]
  },
  {
   "cell_type": "code",
   "execution_count": null,
   "id": "25877bee",
   "metadata": {},
   "outputs": [],
   "source": [
    "# function with parameters\n",
    "\n",
    "def generate_full_name(first_name: str, last_name: str) -> None:\n",
    "    full_name: str = first_name + \" \" + last_name\n",
    "    print(full_name)\n",
    "\n",
    "generate_full_name(\"Phu Quy\", \"Dam\") "
   ]
  }
 ],
 "metadata": {
  "kernelspec": {
   "display_name": "base",
   "language": "python",
   "name": "python3"
  },
  "language_info": {
   "codemirror_mode": {
    "name": "ipython",
    "version": 3
   },
   "file_extension": ".py",
   "mimetype": "text/x-python",
   "name": "python",
   "nbconvert_exporter": "python",
   "pygments_lexer": "ipython3",
   "version": "3.13.5"
  }
 },
 "nbformat": 4,
 "nbformat_minor": 5
}
